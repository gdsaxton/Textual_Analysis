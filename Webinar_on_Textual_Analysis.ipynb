{
  "cells": [
    {
      "cell_type": "markdown",
      "metadata": {
        "id": "77d1cfed"
      },
      "source": [
        "# Overview\n",
        "In this notebook we'll do an overview of textual analysis techniques in Python."
      ],
      "id": "77d1cfed"
    },
    {
      "cell_type": "markdown",
      "metadata": {
        "id": "7daU7J6m5oKY"
      },
      "source": [
        "# **Install Various Packages We'll Be Using**\n",
        "**<font color='red'>Run This Next Code Block If You Are Early to the Webinar to Save Time</font>**\n",
        "\n",
        "To run the code block, put your mouse's cursor in the code block, then hit the run icon (white triangle in black circle). Alternatively, you can use the keyboard shortcut CTRL/COMMAND+ENTER\n",
        "\n",
        "You can find the list of all keyboard shortcuts by following these steps:\n",
        "- Go to the \"Tools\" menu in the top menu bar.\n",
        "- Select \"Keyboard shortcuts\" from the dropdown menu."
      ],
      "id": "7daU7J6m5oKY"
    },
    {
      "cell_type": "code",
      "execution_count": null,
      "metadata": {
        "id": "sYAYVAYWBtGS"
      },
      "outputs": [],
      "source": [
        "%%time\n",
        "#!pip install transformers --quiet\n",
        "#!pip install spacy --quiet\n",
        "#!python -m spacy download en --quiet\n",
        "!pip install -U sec-edgar-downloader --quiet\n",
        "!python -m spacy download en_core_web_sm --quiet\n",
        "!pip install textstat --quiet\n",
        "!pip install wordfreq --quiet\n",
        "!pip install -U deep-translator --quiet\n",
        "!pip install gtts --quiet\n",
        "!pip install vaderSentiment --quiet\n",
        "!pip install textblob --quiet\n",
        "!pip install sumy --quiet\n",
        "#!pip install wordcloud --quiet"
      ],
      "id": "sYAYVAYWBtGS"
    },
    {
      "cell_type": "markdown",
      "metadata": {
        "id": "L_fz8vr5A1cP"
      },
      "source": [
        "# Download a Few Helper Files"
      ],
      "id": "L_fz8vr5A1cP"
    },
    {
      "cell_type": "code",
      "execution_count": null,
      "metadata": {
        "id": "aVYDGQL7yyfN"
      },
      "outputs": [],
      "source": [
        "%%time\n",
        "import nltk\n",
        "nltk.download('punkt')\n",
        "nltk.download('averaged_perceptron_tagger')"
      ],
      "id": "aVYDGQL7yyfN"
    },
    {
      "cell_type": "code",
      "execution_count": null,
      "metadata": {
        "id": "gFGxGkI9A54o"
      },
      "outputs": [],
      "source": [
        "%%time\n",
        "!wget 'https://github.com/gdsaxton/Textual_Analysis/blob/main/Flesch-Kincaid.png?raw=true' --quiet\n",
        "!wget 'https://github.com/gdsaxton/Textual_Analysis/blob/main/Flesch%20Reading%20Score.png?raw=true' --quiet\n",
        "!wget 'https://github.com/gdsaxton/Textual_Analysis/blob/main/Gunning-Fog.png?raw=true' --quiet\n",
        "!wget 'https://github.com/gdsaxton/Textual_Analysis/blob/main/CabinSketch-Bold.ttf?raw=true' --quiet\n",
        "!wget 'https://github.com/gdsaxton/Textual_Analysis/blob/main/Bob.png?raw=true' --quiet"
      ],
      "id": "gFGxGkI9A54o"
    },
    {
      "cell_type": "code",
      "execution_count": null,
      "metadata": {
        "id": "_NMl5n25BOk8"
      },
      "outputs": [],
      "source": [
        "import os"
      ],
      "id": "_NMl5n25BOk8"
    },
    {
      "cell_type": "code",
      "execution_count": null,
      "metadata": {
        "id": "cAs9XDFlfgdB"
      },
      "outputs": [],
      "source": [
        "pwd"
      ],
      "id": "cAs9XDFlfgdB"
    },
    {
      "cell_type": "code",
      "execution_count": null,
      "metadata": {
        "id": "z03xYQOkBZZt"
      },
      "outputs": [],
      "source": [
        "os.listdir()"
      ],
      "id": "z03xYQOkBZZt"
    },
    {
      "cell_type": "code",
      "execution_count": null,
      "metadata": {
        "id": "stItsXkJA7ko"
      },
      "outputs": [],
      "source": [
        "os.rename('Flesch-Kincaid.png?raw=true', 'Flesch-Kincaid.png')\n",
        "os.rename('Flesch Reading Score.png?raw=true', 'Flesch Reading Score.png')\n",
        "os.rename('Gunning-Fog.png?raw=true', 'Gunning-Fog.png')\n",
        "os.rename('CabinSketch-Bold.ttf?raw=true', 'CabinSketch-Bold.ttf')\n",
        "os.rename('Bob.png?raw=true', 'Bob.png')"
      ],
      "id": "stItsXkJA7ko"
    },
    {
      "cell_type": "code",
      "execution_count": null,
      "metadata": {
        "id": "axGuAR4yb-ye"
      },
      "outputs": [],
      "source": [
        "os.listdir()"
      ],
      "id": "axGuAR4yb-ye"
    },
    {
      "cell_type": "markdown",
      "metadata": {
        "id": "5cb1f101"
      },
      "source": [
        "# Load Packages"
      ],
      "id": "5cb1f101"
    },
    {
      "cell_type": "markdown",
      "metadata": {
        "id": "2p38ojHIulzD"
      },
      "source": [
        "First, we will import several necessary Python packages. We will be using the <a href=\"http://pandas.pydata.org/\">Python Data Analysis Library,</a> or <i>PANDAS</i>, extensively for our data manipulations. It is invaluable for analyzing datasets."
      ],
      "id": "2p38ojHIulzD"
    },
    {
      "cell_type": "code",
      "execution_count": null,
      "metadata": {
        "id": "d07f2e63"
      },
      "outputs": [],
      "source": [
        "import numpy as np\n",
        "import pandas as pd\n",
        "from pandas import DataFrame\n",
        "from pandas import Series"
      ],
      "id": "d07f2e63"
    },
    {
      "cell_type": "markdown",
      "metadata": {
        "id": "e0fac760"
      },
      "source": [
        "#### Set PANDAS to show all columns in DataFrame\n",
        "\n",
        "PANDAS allows you to set various options for, among other things, inspecting the data. I like to be able to see all of the columns. Therefore, I typically include this line at the top of all my notebooks."
      ],
      "id": "e0fac760"
    },
    {
      "cell_type": "code",
      "execution_count": null,
      "metadata": {
        "id": "a98f9e65"
      },
      "outputs": [],
      "source": [
        "#http://pandas.pydata.org/pandas-docs/stable/options.html\n",
        "pd.set_option('display.max_columns', None)\n",
        "pd.set_option('max_colwidth', 500)"
      ],
      "id": "a98f9e65"
    },
    {
      "cell_type": "markdown",
      "metadata": {
        "id": "HWKFpc4HlNZt"
      },
      "source": [
        "<br>\n",
        "\n",
        "We can check which version of various packages we're using."
      ],
      "id": "HWKFpc4HlNZt"
    },
    {
      "cell_type": "code",
      "execution_count": null,
      "metadata": {
        "id": "940024e4"
      },
      "outputs": [],
      "source": [
        "from platform import python_version\n",
        "print(python_version())"
      ],
      "id": "940024e4"
    },
    {
      "cell_type": "code",
      "execution_count": null,
      "metadata": {
        "id": "f6419baa"
      },
      "outputs": [],
      "source": [
        "print(pd.__version__)"
      ],
      "id": "f6419baa"
    },
    {
      "cell_type": "code",
      "execution_count": null,
      "metadata": {
        "id": "341d1d93"
      },
      "outputs": [],
      "source": [
        "pd.options.display.float_format = '{:,.2f}'.format"
      ],
      "id": "341d1d93"
    },
    {
      "cell_type": "markdown",
      "metadata": {
        "id": "Jf9i2XBpkYQM"
      },
      "source": [
        "##### Import plotting packages\n",
        "We are using iPython's built-in graphics package <i>matplotlib</i>, and making the plots prettier by applying the <i>Seaborn</i> package's tweaks to matplotlib. PANDAS makes it easy to produce fine plots of your data, thought typically the default graphs have a few things we'd like to tweak. Learning the ins and outs of all the possible modifications takes time, so don't worry about learning them all now. Instead, I'd recommend using the following examples as a template for your own data and then learning new options as you need them."
      ],
      "id": "Jf9i2XBpkYQM"
    },
    {
      "cell_type": "code",
      "execution_count": null,
      "metadata": {
        "id": "93GO_wtik2oP"
      },
      "outputs": [],
      "source": [
        "import matplotlib\n",
        "print(matplotlib.__version__)\n",
        "import matplotlib.pyplot as plt\n",
        "\n",
        "#NECESSARY FOR XTICKS OPTION, ETC.\n",
        "from pylab import*"
      ],
      "id": "93GO_wtik2oP"
    },
    {
      "cell_type": "code",
      "execution_count": null,
      "metadata": {
        "id": "bHPYPXB9k5yE"
      },
      "outputs": [],
      "source": [
        "import seaborn as sns\n",
        "print(sns.__version__)"
      ],
      "id": "bHPYPXB9k5yE"
    },
    {
      "cell_type": "code",
      "execution_count": null,
      "metadata": {
        "id": "muDJiAZOk6ps"
      },
      "outputs": [],
      "source": [
        "%matplotlib inline"
      ],
      "id": "muDJiAZOk6ps"
    },
    {
      "cell_type": "code",
      "execution_count": null,
      "metadata": {
        "id": "YUsC6KK01P4w"
      },
      "outputs": [],
      "source": [
        "from wordcloud import WordCloud"
      ],
      "id": "YUsC6KK01P4w"
    },
    {
      "cell_type": "code",
      "execution_count": null,
      "metadata": {
        "id": "nWx2OMLLkL5O"
      },
      "outputs": [],
      "source": [
        "#FOR FUTUREWARNING REGARDING *append*\n",
        "import warnings\n",
        "warnings.simplefilter(action='ignore', category=FutureWarning)\n",
        "warnings.filterwarnings('ignore')"
      ],
      "id": "nWx2OMLLkL5O"
    },
    {
      "cell_type": "markdown",
      "metadata": {
        "id": "Ctld-JGY2Cb5"
      },
      "source": [
        "# Download Recent Annual Reports (10-K) for Tesla"
      ],
      "id": "Ctld-JGY2Cb5"
    },
    {
      "cell_type": "markdown",
      "metadata": {
        "id": "0THRfeF3uaWs"
      },
      "source": [
        "Extract from sample Tesla 10-K filing"
      ],
      "id": "0THRfeF3uaWs"
    },
    {
      "cell_type": "code",
      "execution_count": 4,
      "metadata": {
        "id": "AkFhHNhBuYLO",
        "colab": {
          "base_uri": "https://localhost:8080/",
          "height": 129
        },
        "outputId": "cd0c8ca1-d40f-443a-9aab-b036a89ff525"
      },
      "outputs": [
        {
          "output_type": "display_data",
          "data": {
            "text/plain": [
              "<IPython.core.display.HTML object>"
            ],
            "text/html": [
              "<p style=\"margin-bottom:0pt;margin-top:0pt;text-indent:0%;font-weight:bold;font-family:Times New Roman;font-size:10pt;font-style:normal;text-transform:none;font-variant: normal;\" id=\"ITEM_1A_RISK_FACTORS\">ITEM 1A. RISK FACTORS</p> <p style=\"margin-top:4pt;margin-bottom:0pt;text-indent:4.54%;font-style:italic;font-family:Times New Roman;font-size:10pt;font-weight:normal;text-transform:none;font-variant: normal;\">You should carefully consider the risks described below together with the other information set forth in this report, which could materially affect our business, financial condition and future results. The risks described below are not the only risks facing our company. Risks and uncertainties not currently known to us or that we currently deem to be immaterial also may materially adversely affect our business, financial condition and operating results. </p> <p style=\"margin-top:14pt;margin-bottom:0pt;text-indent:0%;font-weight:bold;font-family:Times New Roman;font-size:10pt;font-style:normal;text-transform:none;font-variant: normal;\">Risks Related to Our Ability to Grow Our Business</p> <p style=\"margin-top:4pt;margin-bottom:0pt;margin-left:4.54%;text-indent:0%;font-weight:bold;font-style:italic;font-family:Times New Roman;font-size:10pt;text-transform:none;font-variant: normal;\">We may be impacted by macroeconomic conditions resulting from the global COVID-19 pandemic.</p> "
            ]
          },
          "metadata": {}
        }
      ],
      "source": [
        "from IPython.display import display, HTML\n",
        "display(HTML('<p style=\"margin-bottom:0pt;margin-top:0pt;text-indent:0%;font-weight:bold;font-family:Times New Roman;font-size:10pt;font-style:normal;text-transform:none;font-variant: normal;\" id=\"ITEM_1A_RISK_FACTORS\">ITEM 1A. RISK FACTORS</p> <p style=\"margin-top:4pt;margin-bottom:0pt;text-indent:4.54%;font-style:italic;font-family:Times New Roman;font-size:10pt;font-weight:normal;text-transform:none;font-variant: normal;\">You should carefully consider the risks described below together with the other information set forth in this report, which could materially affect our business, financial condition and future results. The risks described below are not the only risks facing our company. Risks and uncertainties not currently known to us or that we currently deem to be immaterial also may materially adversely affect our business, financial condition and operating results. </p> <p style=\"margin-top:14pt;margin-bottom:0pt;text-indent:0%;font-weight:bold;font-family:Times New Roman;font-size:10pt;font-style:normal;text-transform:none;font-variant: normal;\">Risks Related to Our Ability to Grow Our Business</p> <p style=\"margin-top:4pt;margin-bottom:0pt;margin-left:4.54%;text-indent:0%;font-weight:bold;font-style:italic;font-family:Times New Roman;font-size:10pt;text-transform:none;font-variant: normal;\">We may be impacted by macroeconomic conditions resulting from the global COVID-19 pandemic.</p> '))"
      ],
      "id": "AkFhHNhBuYLO"
    },
    {
      "cell_type": "markdown",
      "metadata": {
        "id": "EuG7akw6uOZn"
      },
      "source": [
        "January 26, 2024 Filing: https://www.sec.gov/Archives/edgar/data/1318605/000162828024002390/tsla-20231231.htm"
      ],
      "id": "EuG7akw6uOZn"
    },
    {
      "cell_type": "markdown",
      "metadata": {
        "id": "Bs8GyXn1IH9O"
      },
      "source": [
        "#### Install sec-edgar-downloader\n",
        "Uncomment the next code block (remove the '#' symbols) if you didn't download above\n",
        "\n",
        "https://sec-edgar-downloader.readthedocs.io/en/latest/#api-guide"
      ],
      "id": "Bs8GyXn1IH9O"
    },
    {
      "cell_type": "code",
      "execution_count": 6,
      "metadata": {
        "id": "rWkw5tNiBouK"
      },
      "outputs": [],
      "source": [
        "%%time\n",
        "#!pip install -U sec-edgar-downloader --quiet"
      ],
      "id": "rWkw5tNiBouK"
    },
    {
      "cell_type": "code",
      "execution_count": null,
      "metadata": {
        "id": "b9dzcTqT2WZK"
      },
      "outputs": [],
      "source": [
        "from sec_edgar_downloader import Downloader"
      ],
      "id": "b9dzcTqT2WZK"
    },
    {
      "cell_type": "markdown",
      "metadata": {
        "id": "LOMakZ037OuC"
      },
      "source": [
        "##### **<font color='red'>Add in your email in the code block below</font>**"
      ],
      "id": "LOMakZ037OuC"
    },
    {
      "cell_type": "code",
      "execution_count": null,
      "metadata": {
        "id": "I7oAmydP3DBD"
      },
      "outputs": [],
      "source": [
        "%%time\n",
        "dl = Downloader(\"York\", \"YOUR EMAIL ADDRESS\") #ADD YOUR EMAIL ADDRESS; e.g., dl = Downloader(\"York\", \"montypython@gmail.com\")"
      ],
      "id": "I7oAmydP3DBD"
    },
    {
      "cell_type": "code",
      "execution_count": null,
      "metadata": {
        "id": "bR8F8thv2xxF"
      },
      "outputs": [],
      "source": [
        "%%time\n",
        "# Get the latest supported filings for a specified list of tickers and CIKs\n",
        "equity_ids = [\"TSLA\"]\n",
        "filing_type = \"10-K\"\n",
        "for equity_id in equity_ids:\n",
        "    dl.get(filing_type, equity_id, limit=3)"
      ],
      "id": "bR8F8thv2xxF"
    },
    {
      "cell_type": "markdown",
      "metadata": {
        "id": "6Tc_05W_fPgV"
      },
      "source": [
        "#### View current directory and switch to sec-edgar-filings folder"
      ],
      "id": "6Tc_05W_fPgV"
    },
    {
      "cell_type": "code",
      "execution_count": 7,
      "metadata": {
        "id": "aviHuU8C3uxt",
        "colab": {
          "base_uri": "https://localhost:8080/",
          "height": 35
        },
        "outputId": "cd818549-32c8-42b1-ec21-c605fe6c17cf"
      },
      "outputs": [
        {
          "output_type": "execute_result",
          "data": {
            "text/plain": [
              "'/content'"
            ],
            "application/vnd.google.colaboratory.intrinsic+json": {
              "type": "string"
            }
          },
          "metadata": {},
          "execution_count": 7
        }
      ],
      "source": [
        "pwd"
      ],
      "id": "aviHuU8C3uxt"
    },
    {
      "cell_type": "code",
      "execution_count": null,
      "metadata": {
        "id": "aInCslsJ3w2-"
      },
      "outputs": [],
      "source": [
        "#cd sec-edgar-filings"
      ],
      "id": "aInCslsJ3w2-"
    },
    {
      "cell_type": "code",
      "execution_count": null,
      "metadata": {
        "id": "Gj9s3Gwx3zu1"
      },
      "outputs": [],
      "source": [
        "ls sec-edgar-filings"
      ],
      "id": "Gj9s3Gwx3zu1"
    },
    {
      "cell_type": "markdown",
      "metadata": {
        "id": "x_Y-8pH2sVRi"
      },
      "source": [
        "# Parse Downloaded Filings and Insert into Dataframe"
      ],
      "id": "x_Y-8pH2sVRi"
    },
    {
      "cell_type": "markdown",
      "metadata": {
        "id": "33FxKlAJ34o2"
      },
      "source": [
        "### Rename each file to have the accession number\n",
        "\"Accession number: In the example above, 0001193125-15-118890 is the accession number, a unique identifier assigned automatically to an accepted submission by EDGAR. The first set of numbers (0001193125) is the CIK of the entity submitting the filing. This could be the company or a third-party filer agent. Some filer agents without a regulatory requirement to make disclosure filings with the SEC have a CIK but no searchable presence in the public EDGAR database. The next two numbers (15) represent the year. The last series of numbers represent a sequential count of submitted filings from that CIK. The count is usually, but not always, reset to zero at the start of each calendar year.\"\n",
        "\n",
        "https://www.sec.gov/os/accessing-edgar-data"
      ],
      "id": "33FxKlAJ34o2"
    },
    {
      "cell_type": "code",
      "execution_count": null,
      "metadata": {
        "id": "ApW4Pl4-34fA"
      },
      "outputs": [],
      "source": [
        "import os\n",
        "# Set the path to the parent directory\n",
        "parent_directory = '/content/sec-edgar-filings'\n",
        "\n",
        "# Walk through all sub-folders and files in the directory\n",
        "for root, dirs, files in os.walk(parent_directory):\n",
        "    for file in files:\n",
        "        # Check if the file is 'filing.txt'\n",
        "        if file == 'full-submission.txt':\n",
        "            # Get the name of the current folder\n",
        "            folder_name = os.path.basename(root)\n",
        "            # Construct the old and new file paths\n",
        "            old_file_path = os.path.join(root, file)\n",
        "            new_file_path = os.path.join(root, folder_name + '.txt')\n",
        "\n",
        "            # Rename the file\n",
        "            os.rename(old_file_path, new_file_path)\n",
        "            print(f\"Renamed '{old_file_path}' to '{new_file_path}'\")"
      ],
      "id": "ApW4Pl4-34fA"
    },
    {
      "cell_type": "markdown",
      "metadata": {
        "id": "tsAs-n0t34R-"
      },
      "source": [
        "#### Move all TSLA filings out of their sub-folders into the main TSLA folder\n",
        "\n",
        "---\n",
        "\n"
      ],
      "id": "tsAs-n0t34R-"
    },
    {
      "cell_type": "code",
      "execution_count": null,
      "metadata": {
        "id": "V_Pw4QF-34Hy"
      },
      "outputs": [],
      "source": [
        "import shutil\n",
        "\n",
        "# Set the path to the parent directory and the destination directory\n",
        "parent_directory = '/content/sec-edgar-filings/TSLA'\n",
        "destination_directory = '/content/sec-edgar-filings/TSLA'\n",
        "\n",
        "# Create the destination directory if it doesn't exist\n",
        "if not os.path.exists(destination_directory):\n",
        "    os.makedirs(destination_directory)\n",
        "\n",
        "# Walk through all sub-folders and files in the directory\n",
        "for root, dirs, files in os.walk(parent_directory):\n",
        "    for file in files:\n",
        "        # Check if the file is 'filing.txt'\n",
        "        if file.endswith('.txt'):\n",
        "            # Get the name of the current folder\n",
        "            folder_name = os.path.basename(root)\n",
        "            # Construct the old and new file paths\n",
        "            old_file_path = os.path.join(root, file)\n",
        "            new_file_name = folder_name + '.txt'\n",
        "            new_file_path = os.path.join(destination_directory, new_file_name)\n",
        "\n",
        "            # Rename and move the file\n",
        "            os.rename(old_file_path, new_file_path)\n",
        "            print(f\"Moved and renamed '{old_file_path}' to '{new_file_path}'\")\n"
      ],
      "id": "V_Pw4QF-34Hy"
    },
    {
      "cell_type": "code",
      "execution_count": null,
      "metadata": {
        "id": "W35c1G745UM6"
      },
      "outputs": [],
      "source": [
        "!rm -rf '/content/sec-edgar-filings/TSLA/10-K'"
      ],
      "id": "W35c1G745UM6"
    },
    {
      "cell_type": "code",
      "execution_count": null,
      "metadata": {
        "id": "_jGzRl_AdXgv"
      },
      "outputs": [],
      "source": [
        "ls '/content/sec-edgar-filings/TSLA'"
      ],
      "id": "_jGzRl_AdXgv"
    },
    {
      "cell_type": "markdown",
      "metadata": {
        "id": "Z4viMaYR5YDb"
      },
      "source": [
        "#### Create DataFrame holding data on all downloaded filings"
      ],
      "id": "Z4viMaYR5YDb"
    },
    {
      "cell_type": "code",
      "execution_count": null,
      "metadata": {
        "id": "-3IYEIsQ5X6N"
      },
      "outputs": [],
      "source": [
        "%%time\n",
        "from bs4 import BeautifulSoup\n",
        "import re\n",
        "\n",
        "# Set the path to the folder containing the text files\n",
        "folder_path = '/content/sec-edgar-filings/TSLA'\n",
        "\n",
        "# Initialize an empty DataFrame to store the CIK data\n",
        "df = pd.DataFrame(columns=['Filename', 'CIK', 'Company Name', 'Reporting Period'])\n",
        "\n",
        "# Loop over all .txt files in the folder\n",
        "for filename in os.listdir(folder_path):\n",
        "    if filename.endswith('.txt'):\n",
        "        file_path = os.path.join(folder_path, filename)\n",
        "\n",
        "        # Open and read the file\n",
        "        with open(file_path, 'r', encoding='utf-8') as file:\n",
        "            soup = BeautifulSoup(file, 'html.parser')\n",
        "\n",
        "            # Use regular expression to find the CIK number\n",
        "            cik_search = re.search('CENTRAL INDEX KEY:?\\s+(\\d+)', soup.get_text())\n",
        "            if cik_search:\n",
        "                cik_number = cik_search.group(1)\n",
        "            else:\n",
        "                cik_number = 'Not Found'\n",
        "\n",
        "            name_search = re.search('COMPANY CONFORMED NAME:?\\s+([^\\n]+)', soup.get_text())\n",
        "            if name_search:\n",
        "                name = name_search.group(1).strip()\n",
        "            else:\n",
        "                name = 'Not Found'\n",
        "\n",
        "            period_search = re.search('CONFORMED PERIOD OF REPORT:?\\s+(\\d+)', soup.get_text())\n",
        "            if period_search:\n",
        "                period = period_search.group(1)\n",
        "            else:\n",
        "                period = 'Not Found'\n",
        "\n",
        "            # Append the data to the DataFrame\n",
        "            #df = df.append({'Filename': filename, 'CIK': cik_number}, ignore_index=True)\n",
        "            df = pd.concat([df, pd.DataFrame.from_records([{'Filename': filename, 'CIK': cik_number,\n",
        "                                                           'Company Name': name, 'Reporting Period': period}])])\n",
        "\n",
        "            #outputxlsx = pd.concat([outputxlsx, df], ignore_index=True)\n",
        "\n",
        "# Display the DataFrame\n",
        "df"
      ],
      "id": "-3IYEIsQ5X6N"
    },
    {
      "cell_type": "markdown",
      "metadata": {
        "id": "pGzwgv6b6NA7"
      },
      "source": [
        "#### Create 'ticker' column in dataframe"
      ],
      "id": "pGzwgv6b6NA7"
    },
    {
      "cell_type": "code",
      "execution_count": null,
      "metadata": {
        "id": "TvAcAhcLpm3i"
      },
      "outputs": [],
      "source": [
        "df['ticker'] = np.where(df['Company Name']=='Tesla, Inc.', 'TSLA', np.NaN)\n",
        "df"
      ],
      "id": "TvAcAhcLpm3i"
    },
    {
      "cell_type": "code",
      "execution_count": null,
      "metadata": {
        "id": "siBN4CrF6Hff"
      },
      "outputs": [],
      "source": [
        "df.columns"
      ],
      "id": "siBN4CrF6Hff"
    },
    {
      "cell_type": "markdown",
      "metadata": {
        "id": "KbUSegYJ6TLG"
      },
      "source": [
        "<br>Re-arrange Columns"
      ],
      "id": "KbUSegYJ6TLG"
    },
    {
      "cell_type": "code",
      "execution_count": null,
      "metadata": {
        "id": "lkrHV9dJ6J29"
      },
      "outputs": [],
      "source": [
        "df = df[['ticker', 'Filename', 'CIK', 'Company Name', 'Reporting Period']]\n",
        "df = df.reset_index()\n",
        "df = df.drop('index', axis=1)\n",
        "df"
      ],
      "id": "lkrHV9dJ6J29"
    },
    {
      "cell_type": "markdown",
      "metadata": {
        "id": "ckg9qqSE7cps"
      },
      "source": [
        "### Loop Over all Filings in Dataframe"
      ],
      "id": "ckg9qqSE7cps"
    },
    {
      "cell_type": "code",
      "execution_count": null,
      "metadata": {
        "id": "s9XOzVazqCPz"
      },
      "outputs": [],
      "source": [
        "%%time\n",
        "start_list = ['ITEM_1A_RISK_FACTORS', 'item_1a_risk_factors', 'risk_factors']\n",
        "end_list = ['ITEM_1B_UNRESOLVED_STAFF_COMMENTS', 'item_1b_unresolved_staff_comments', 'unresolved_staff_comments']\n",
        "\n",
        "for index, row in df[:].iterrows():\n",
        "    file_path = '/content/sec-edgar-filings/'+row['ticker']+'/'+row['Filename']\n",
        "    print(file_path)\n",
        "    extracted_text = ''\n",
        "\n",
        "    with open(file_path, 'r', encoding='utf-8') as file:\n",
        "        soup = BeautifulSoup(file, 'html.parser')\n",
        "\n",
        "        # Initialize a flag to indicate when to start collecting text\n",
        "        start_collecting = False\n",
        "        extracted_text = ''\n",
        "\n",
        "        # Iterate through all <p> tags\n",
        "        for p_tag in soup.find_all('p'):\n",
        "            # Check if the current tag is the start tag\n",
        "            # Get the id attribute of the tag in lowercase\n",
        "            tag_id = (p_tag.get('id') or '').lower()\n",
        "\n",
        "            # Check if the id is in the list\n",
        "            if tag_id in start_list:\n",
        "                # Do something if the id is in the list\n",
        "                #print(f\"Found a matching id: {tag_id}\")\n",
        "                start_collecting = True\n",
        "                continue  # Skip the start tag itself\n",
        "\n",
        "            # Check if the current tag is the end tag\n",
        "            if tag_id in end_list:\n",
        "                 break  # Stop collecting text\n",
        "\n",
        "           # Collect text if between the start and end tags\n",
        "            if start_collecting:\n",
        "                extracted_text += p_tag.get_text(' ', strip=True) + '\\n'\n",
        "\n",
        "        ##### CODE BLOCK ADDED IN FOR LATEST TESLA FILING\n",
        "        if extracted_text=='':\n",
        "          for span in soup.find_all('span'):\n",
        "            if span.text == \"ITEM 1A. RISK FACTORS\":\n",
        "              print(\"Found the span with text: 'ITEM 1A. RISK FACTORS'\")\n",
        "              start_collecting = True\n",
        "              continue  # Skip the start tag itself\n",
        "\n",
        "            # Check if the current tag is the end tag\n",
        "            if span.text == \"ITEM 1B. UNRESOLVED STAFF COMMENTS\":\n",
        "              print(\"Found the span with text: 'ITEM 1B. UNRESOLVED STAFF COMMENTS'\")\n",
        "              break  # Stop collecting text\n",
        "\n",
        "            # Collect text if between the start and end tags\n",
        "            if start_collecting:\n",
        "                extracted_text += span.get_text(' ', strip=True) + '\\n'\n",
        "\n",
        "        print(extracted_text.strip()[:100], '\\n')\n",
        "\n",
        "        df.loc[index, '1A_Text'] = extracted_text\n",
        "\n",
        "df"
      ],
      "id": "s9XOzVazqCPz"
    },
    {
      "cell_type": "markdown",
      "metadata": {
        "id": "sg7p1Nbuswmq"
      },
      "source": [
        "#### Sort DF"
      ],
      "id": "sg7p1Nbuswmq"
    },
    {
      "cell_type": "code",
      "execution_count": null,
      "metadata": {
        "id": "lMWj4dwZsr7C"
      },
      "outputs": [],
      "source": [
        "df = df.sort_values('Reporting Period', ascending=False)\n",
        "df"
      ],
      "id": "lMWj4dwZsr7C"
    },
    {
      "cell_type": "markdown",
      "metadata": {
        "id": "7Mst3WK_8VUr"
      },
      "source": [
        "#### Save DF"
      ],
      "id": "7Mst3WK_8VUr"
    },
    {
      "cell_type": "code",
      "execution_count": null,
      "metadata": {
        "id": "Vh_ocRrH82wE"
      },
      "outputs": [],
      "source": [
        "pwd"
      ],
      "id": "Vh_ocRrH82wE"
    },
    {
      "cell_type": "code",
      "execution_count": null,
      "metadata": {
        "id": "4UTxwvrHLA6A"
      },
      "outputs": [],
      "source": [
        "os.listdir()"
      ],
      "id": "4UTxwvrHLA6A"
    },
    {
      "cell_type": "code",
      "execution_count": null,
      "metadata": {
        "id": "AwgoLEB98Vou"
      },
      "outputs": [],
      "source": [
        "df.to_pickle('Three TSLA 10-K Risk Analysis Sections.pkl')"
      ],
      "id": "AwgoLEB98Vou"
    },
    {
      "cell_type": "markdown",
      "metadata": {
        "id": "D44qf4pVmwjH"
      },
      "source": [
        "# Read in Dataset (If Needed)"
      ],
      "id": "D44qf4pVmwjH"
    },
    {
      "cell_type": "markdown",
      "metadata": {
        "id": "jL7VnSfItSgG"
      },
      "source": [
        "PANDAS can read in data from a variety of different data types. We have a data set with 3 Risk Assessment sections from Tesla's 10-K filings. This is a PANDAS dataframe, which I also saved as a 'pickled' file and uploaded to a repository on my GitHub account. So, if needed, we can access this GitHub file using the following code blocks, where we will read in the remote file and assign it to the name ``df`` -- short for 'dataframe', the PANDAS name for a dataset. Second, we will use the <i>slice</i> function ``df[:1]`` to show the first row of the dataset.\n",
        "\n",
        "- Reading in files in Google Colab: https://neptune.ai/blog/google-colab-dealing-with-files\n",
        "\n",
        "- I'm showing some alternative methods here. I've \"commented out\" these lines by using the \"#\" sign at the start of each line. We could run the code by removing the pound sign."
      ],
      "id": "jL7VnSfItSgG"
    },
    {
      "cell_type": "markdown",
      "metadata": {
        "id": "WXvecRhalyyS"
      },
      "source": [
        "### Read in Pickled File Directly from GitHub Repository\n",
        "- Make sure to add \"?raw=true\" to end of file"
      ],
      "id": "WXvecRhalyyS"
    },
    {
      "cell_type": "code",
      "execution_count": null,
      "metadata": {
        "id": "_wJTbLkVmHhr"
      },
      "outputs": [],
      "source": [
        "#%%time\n",
        "#import datetime\n",
        "#print (\"Current date and time : \", datetime.datetime.now().strftime(\"%Y-%m-%d %H:%M:%S\"), '\\n')\n",
        "#df = pd.read_pickle('https://github.com/gdsaxton/Textual_Analysis/blob/main/Three%20TSLA%2010-K%20Risk%20Analysis%20Sections.pkl?raw=true')\n",
        "#print('# of columns:', len(df.columns))\n",
        "#print('# of observations:', len(df))\n",
        "#df"
      ],
      "id": "_wJTbLkVmHhr"
    },
    {
      "cell_type": "code",
      "execution_count": null,
      "metadata": {
        "id": "cPFAci3XtCw5"
      },
      "outputs": [],
      "source": [
        "#SORT DF\n",
        "#df = df.sort_values('Reporting Period', ascending=False)\n",
        "#df"
      ],
      "id": "cPFAci3XtCw5"
    },
    {
      "cell_type": "markdown",
      "metadata": {
        "id": "Z0QTwM3wrAU0"
      },
      "source": [
        "### Read in Saved Version of DF (if necessary) - Download Pickled File Directly from GitHub Repository then Read in\n",
        "- Make sure to add \"?raw=true\" to end of file"
      ],
      "id": "Z0QTwM3wrAU0"
    },
    {
      "cell_type": "code",
      "execution_count": null,
      "metadata": {
        "id": "VYmTTn-7q_21"
      },
      "outputs": [],
      "source": [
        "#!wget 'https://github.com/gdsaxton/Textual_Analysis/blob/main/Three%20TSLA%2010-K%20Risk%20Analysis%20Sections.pkl?raw=true'"
      ],
      "id": "VYmTTn-7q_21"
    },
    {
      "cell_type": "code",
      "execution_count": null,
      "metadata": {
        "id": "dgPkfitHr1Cb"
      },
      "outputs": [],
      "source": [
        "#os.listdir()"
      ],
      "id": "dgPkfitHr1Cb"
    },
    {
      "cell_type": "code",
      "execution_count": null,
      "metadata": {
        "id": "Wn-cdLZJq_uv"
      },
      "outputs": [],
      "source": [
        "#%%time\n",
        "#import datetime\n",
        "#print (\"Current date and time : \", datetime.datetime.now().strftime(\"%Y-%m-%d %H:%M:%S\"), '\\n')\n",
        "#df = pd.read_pickle('Three TSLA 10-K Risk Analysis Sections.pkl?raw=true')\n",
        "#print('# of columns:', len(df.columns))\n",
        "#print('# of observations:', len(df))\n",
        "#df"
      ],
      "id": "Wn-cdLZJq_uv"
    },
    {
      "cell_type": "code",
      "execution_count": null,
      "metadata": {
        "id": "LKbR7fjAs4QV"
      },
      "outputs": [],
      "source": [
        "#SORT DF\n",
        "#df = df.sort_values('Reporting Period', ascending=False)\n",
        "#df"
      ],
      "id": "LKbR7fjAs4QV"
    },
    {
      "cell_type": "markdown",
      "metadata": {
        "id": "bv7eKbNFMZLQ"
      },
      "source": [
        "# String Operations in Python"
      ],
      "id": "bv7eKbNFMZLQ"
    },
    {
      "cell_type": "markdown",
      "metadata": {
        "id": "Xy7l3gHtMkax"
      },
      "source": [
        "### String Slicing and Indexing\n",
        "Python strings are like arrays of characters, and you can easily extract parts of strings using slicing."
      ],
      "id": "Xy7l3gHtMkax"
    },
    {
      "cell_type": "code",
      "execution_count": 8,
      "metadata": {
        "id": "5RMjqIZiCuHu",
        "colab": {
          "base_uri": "https://localhost:8080/",
          "height": 107
        },
        "outputId": "90213577-ba60-48c8-9848-bf0f8e0811c2"
      },
      "outputs": [
        {
          "output_type": "execute_result",
          "data": {
            "text/plain": [
              "'You should carefully consider the risks described below together with the other information set forth in this report, which could materially affect our business, financial condition and future results. The risks described below are not the only risks facing our company. Risks and uncertainties not currently known to us or that we currently deem to be immaterial also may materially adversely affect our business, financial condition and operating results. Risks Related to Our Ability to Grow Our Business We may be impacted by macroeconomic conditions resulting from the global COVID-19 pandemic. Since the first quarter of 2020, there has been a worldwide impact from the COVID-19 pandemic.'"
            ],
            "application/vnd.google.colaboratory.intrinsic+json": {
              "type": "string"
            }
          },
          "metadata": {},
          "execution_count": 8
        }
      ],
      "source": [
        "text = \"You should carefully consider the risks described below together with the other information set forth in this report, which could materially affect our business, financial condition and future results. The risks described below are not the only risks facing our company. Risks and uncertainties not currently known to us or that we currently deem to be immaterial also may materially adversely affect our business, financial condition and operating results. Risks Related to Our Ability to Grow Our Business We may be impacted by macroeconomic conditions resulting from the global COVID-19 pandemic. Since the first quarter of 2020, there has been a worldwide impact from the COVID-19 pandemic.\"\n",
        "text"
      ],
      "id": "5RMjqIZiCuHu"
    },
    {
      "cell_type": "code",
      "execution_count": 9,
      "metadata": {
        "id": "43kb5MMMMlns",
        "colab": {
          "base_uri": "https://localhost:8080/"
        },
        "outputId": "43dd1597-a63e-432f-a6c8-ba7ef979b828"
      },
      "outputs": [
        {
          "output_type": "stream",
          "name": "stdout",
          "text": [
            "You should carefully cons\n"
          ]
        }
      ],
      "source": [
        "print(text[:25])"
      ],
      "id": "43kb5MMMMlns"
    },
    {
      "cell_type": "code",
      "execution_count": 10,
      "metadata": {
        "id": "_1HaMkYHO1Fm",
        "colab": {
          "base_uri": "https://localhost:8080/"
        },
        "outputId": "8924db07-48e4-455b-c96a-dccd2945b244"
      },
      "outputs": [
        {
          "output_type": "stream",
          "name": "stdout",
          "text": [
            "ou should carefully cons\n"
          ]
        }
      ],
      "source": [
        "print(text[1:25])"
      ],
      "id": "_1HaMkYHO1Fm"
    },
    {
      "cell_type": "code",
      "execution_count": 11,
      "metadata": {
        "id": "KOzlUosOO3Xn",
        "colab": {
          "base_uri": "https://localhost:8080/"
        },
        "outputId": "9d8f5188-e5d6-4fbe-bfeb-f281c415cbea"
      },
      "outputs": [
        {
          "output_type": "stream",
          "name": "stdout",
          "text": [
            "om the COVID-19 pandem\n"
          ]
        }
      ],
      "source": [
        "print(text[-25:-3])"
      ],
      "id": "KOzlUosOO3Xn"
    },
    {
      "cell_type": "markdown",
      "metadata": {
        "id": "N7M_7HGSO_U6"
      },
      "source": [
        "### Regular Expressions\n",
        "With the re module, you can perform complex string searches, replacements, and manipulations."
      ],
      "id": "N7M_7HGSO_U6"
    },
    {
      "cell_type": "code",
      "execution_count": null,
      "metadata": {
        "id": "uRCGT5hu3ZD6"
      },
      "outputs": [],
      "source": [
        "import re\n",
        "x = re.findall(\"COVID-19\", text)\n",
        "print(x)"
      ],
      "id": "uRCGT5hu3ZD6"
    },
    {
      "cell_type": "markdown",
      "metadata": {
        "id": "1a-I9ea5O_EQ"
      },
      "source": [
        "### String Concatenation and Repetition\n",
        "You can easily concatenate (join) strings together, or repeat them a certain number of times."
      ],
      "id": "1a-I9ea5O_EQ"
    },
    {
      "cell_type": "code",
      "execution_count": null,
      "metadata": {
        "id": "6tonwWqbO-6l"
      },
      "outputs": [],
      "source": [
        "str1 = \"Hello\"\n",
        "str2 = \"World\"\n",
        "print(str1 + \" \" + str2)\n",
        "print(str1 * 3)"
      ],
      "id": "6tonwWqbO-6l"
    },
    {
      "cell_type": "markdown",
      "metadata": {
        "id": "fdVzaMJSO-x3"
      },
      "source": [
        "### Changing Case\n",
        "Python strings come with a variety of built-in methods for common tasks. To start, there are three methods for changing case:\n",
        "\n",
        "``.upper()``: Changing to upper case.\n",
        "\n",
        "``.lower()``: Changing to lower case.\n",
        "\n",
        "``.capitalize()``: Changing start of sentences to upper case.\n",
        "\n",
        "``swapcase()``: Changing each letter to its opposite case."
      ],
      "id": "fdVzaMJSO-x3"
    },
    {
      "cell_type": "markdown",
      "metadata": {
        "id": "gvm64Vz-PNAB"
      },
      "source": [
        "##### Upper case"
      ],
      "id": "gvm64Vz-PNAB"
    },
    {
      "cell_type": "code",
      "execution_count": null,
      "metadata": {
        "id": "ldn1LJi0O-oZ"
      },
      "outputs": [],
      "source": [
        "print(text[:600].upper())"
      ],
      "id": "ldn1LJi0O-oZ"
    },
    {
      "cell_type": "markdown",
      "metadata": {
        "id": "Wnx1amfwO-cv"
      },
      "source": [
        "##### Lower case"
      ],
      "id": "Wnx1amfwO-cv"
    },
    {
      "cell_type": "code",
      "execution_count": null,
      "metadata": {
        "id": "R5YNKIT3O-JD"
      },
      "outputs": [],
      "source": [
        "print(text[:600].lower())"
      ],
      "id": "R5YNKIT3O-JD"
    },
    {
      "cell_type": "markdown",
      "metadata": {
        "id": "54-T8kdcPU4o"
      },
      "source": [
        "##### Capitalize"
      ],
      "id": "54-T8kdcPU4o"
    },
    {
      "cell_type": "code",
      "execution_count": null,
      "metadata": {
        "id": "UPmzufy3PV1a"
      },
      "outputs": [],
      "source": [
        "print(text[:600].capitalize())"
      ],
      "id": "UPmzufy3PV1a"
    },
    {
      "cell_type": "markdown",
      "metadata": {
        "id": "fZQZsE7lFRnD"
      },
      "source": [
        "##### Case Conversion"
      ],
      "id": "fZQZsE7lFRnD"
    },
    {
      "cell_type": "code",
      "execution_count": null,
      "metadata": {
        "id": "BDO7_ETlFQd3"
      },
      "outputs": [],
      "source": [
        "print(text[:600].swapcase())"
      ],
      "id": "BDO7_ETlFQd3"
    },
    {
      "cell_type": "markdown",
      "metadata": {
        "id": "E0fy8Ig9BPXq"
      },
      "source": [
        "### Replacement\n",
        "\n",
        "``.replace()``: Replacing parts of a string."
      ],
      "id": "E0fy8Ig9BPXq"
    },
    {
      "cell_type": "code",
      "execution_count": null,
      "metadata": {
        "id": "CUSTQ6-IBZGN"
      },
      "outputs": [],
      "source": [
        "text.replace('COVID-19', '*****THAT WHICH MUST NEVER BE NAMED*****')"
      ],
      "id": "CUSTQ6-IBZGN"
    },
    {
      "cell_type": "markdown",
      "metadata": {
        "id": "eV_4YjoJBPHs"
      },
      "source": [
        "### Select Latest Filing and Clean by Using ``replace`` to Remove Page Numbers, Bullet Points, and \"Table of Contents\""
      ],
      "id": "eV_4YjoJBPHs"
    },
    {
      "cell_type": "code",
      "execution_count": null,
      "metadata": {
        "id": "RjVHrw3zD66s"
      },
      "outputs": [],
      "source": [
        "pd.set_option('max_colwidth', 500)\n",
        "df[:1]['1A_Text'].item()"
      ],
      "id": "RjVHrw3zD66s"
    },
    {
      "cell_type": "code",
      "execution_count": null,
      "metadata": {
        "id": "XdFHnRX1DDOK"
      },
      "outputs": [],
      "source": [
        "for index, row in df[:1].iterrows():\n",
        "    print('# of characters in risk factors section:', len(row['1A_Text']), '\\n')\n",
        "    print(row['1A_Text'][:15000])"
      ],
      "id": "XdFHnRX1DDOK"
    },
    {
      "cell_type": "code",
      "execution_count": null,
      "metadata": {
        "id": "io5NDMVHBO_9"
      },
      "outputs": [],
      "source": [
        "for index, row in df[:1].iterrows():\n",
        "  print('# of characters in risk factors section:', len(row['1A_Text']))\n",
        "\n",
        "df['1A_Text'] = df['1A_Text'].replace('\\n(\\d{2})\\n', '', regex=True)\n",
        "for index, row in df[:1].iterrows():\n",
        "    print('# of characters in risk factors section after removing page numbers:', len(row['1A_Text']))\n",
        "    #print(row['1A_Text'], '\\n\\n\\n\\n\\n\\n\\n\\n\\n\\n')\n",
        "\n",
        "df['1A_Text'] = df['1A_Text'].replace('•', '')\n",
        "#for index, row in df[:1].iterrows():\n",
        "    #print('# of characters in risk factors section after removing bullet points:', len(row['1A_Text']))\n",
        "    #print(row['1A_Text'], '\\n\\n\\n\\n\\n\\n\\n\\n\\n\\n')\n",
        "\n",
        "df['1A_Text'] = df['1A_Text'].replace('Table of Contents', '')\n",
        "for index, row in df[:1].iterrows():\n",
        "    print('# of characters in risk factors section after removing page numbers, bullet points, and Table of Contents:', len(row['1A_Text']), '\\n')\n",
        "    text = row['1A_Text']\n",
        "    print(text[:15000])"
      ],
      "id": "io5NDMVHBO_9"
    },
    {
      "cell_type": "markdown",
      "metadata": {
        "id": "anJKS9skQBW2"
      },
      "source": [
        "### Splitting - Create a List\n",
        "``.split()``: Splitting a string into a list."
      ],
      "id": "anJKS9skQBW2"
    },
    {
      "cell_type": "code",
      "execution_count": null,
      "metadata": {
        "id": "b8XXtyGrbbkG"
      },
      "outputs": [],
      "source": [
        "word_list = text.split()\n",
        "print('# of words in risk factors section:', len(word_list))\n",
        "print(\"First 5 words: \", word_list[:5])"
      ],
      "id": "b8XXtyGrbbkG"
    },
    {
      "cell_type": "markdown",
      "metadata": {
        "id": "j272LP26QBjH"
      },
      "source": [
        "### Joining a List"
      ],
      "id": "j272LP26QBjH"
    },
    {
      "cell_type": "code",
      "execution_count": null,
      "metadata": {
        "id": "pqbUklYBQBoq"
      },
      "outputs": [],
      "source": [
        "my_word_list = text[:101].split()\n",
        "print(my_word_list)"
      ],
      "id": "pqbUklYBQBoq"
    },
    {
      "cell_type": "code",
      "execution_count": null,
      "metadata": {
        "id": "fS5T6gXbQBt7"
      },
      "outputs": [],
      "source": [
        "print(' '.join(my_word_list))"
      ],
      "id": "fS5T6gXbQBt7"
    },
    {
      "cell_type": "markdown",
      "metadata": {
        "id": "H46UEVP3QQBw"
      },
      "source": [
        "### Palindrome Check\n",
        "You can easily check if a string is a palindrome. Here is a plug for the world's best-ever song about palindromes. :)"
      ],
      "id": "H46UEVP3QQBw"
    },
    {
      "cell_type": "code",
      "execution_count": null,
      "metadata": {
        "id": "GJ6h8WVNMcan"
      },
      "outputs": [],
      "source": [
        "from IPython.display import Image\n",
        "Image(width=400, filename='Bob.png')"
      ],
      "id": "GJ6h8WVNMcan"
    },
    {
      "cell_type": "code",
      "execution_count": null,
      "metadata": {
        "id": "S8lAemYnQQGq"
      },
      "outputs": [],
      "source": [
        "s = \"radar\"\n",
        "print(s == s[::-1])  # True"
      ],
      "id": "S8lAemYnQQGq"
    },
    {
      "cell_type": "markdown",
      "metadata": {
        "id": "TbrCXHhzQQLT"
      },
      "source": [
        "<br>Take every second character"
      ],
      "id": "TbrCXHhzQQLT"
    },
    {
      "cell_type": "code",
      "execution_count": null,
      "metadata": {
        "id": "L00CpxBfQQQK"
      },
      "outputs": [],
      "source": [
        "s[::2]"
      ],
      "id": "L00CpxBfQQQK"
    },
    {
      "cell_type": "code",
      "execution_count": null,
      "metadata": {
        "id": "tDmTCSjFQQVe"
      },
      "outputs": [],
      "source": [
        "s[::5]"
      ],
      "id": "tDmTCSjFQQVe"
    },
    {
      "cell_type": "markdown",
      "metadata": {
        "id": "Mkfcrel9QQe0"
      },
      "source": [
        "The slice notation generally follows the format [start:stop:step].\n",
        "\n",
        "In ``[::-1]``:\n",
        "\n",
        "start is omitted, which means it defaults to the beginning of the string.\n",
        "\n",
        "stop is omitted, which means it defaults to the end of the string.\n",
        "\n",
        "step is -1, which tells Python to step through the string backwards.\n",
        "\n",
        "So, ``[::-1]`` starts from the beginning of the string, goes all the way to the end, but takes steps backwards, effectively reversing the string."
      ],
      "id": "Mkfcrel9QQe0"
    },
    {
      "cell_type": "code",
      "execution_count": null,
      "metadata": {
        "id": "aOgvb4vTJhs4"
      },
      "outputs": [],
      "source": [
        "s = \"Lisa Bonet ate no basil\"\n",
        "print(s, '\\n')\n",
        "if s == s[::-1]:\n",
        "  print(\"Yes, it's a palindrome!\")\n",
        "else:\n",
        "  print(\"No, it's not a palindrome\")"
      ],
      "id": "aOgvb4vTJhs4"
    },
    {
      "cell_type": "markdown",
      "metadata": {
        "id": "mgN0sLXoKIAs"
      },
      "source": [
        "<br>Try making it lower case"
      ],
      "id": "mgN0sLXoKIAs"
    },
    {
      "cell_type": "code",
      "execution_count": null,
      "metadata": {
        "id": "NUOcyyX_J9aH"
      },
      "outputs": [],
      "source": [
        "s = s.lower()\n",
        "print(s, '\\n')\n",
        "if s == s[::-1]:\n",
        "  print(\"Yes, it's a palindrome!\")\n",
        "else:\n",
        "  print(\"No, it's not a palindrome\")"
      ],
      "id": "NUOcyyX_J9aH"
    },
    {
      "cell_type": "markdown",
      "metadata": {
        "id": "EZ8YK-EjKOuB"
      },
      "source": [
        "<br>Try removing spaces"
      ],
      "id": "EZ8YK-EjKOuB"
    },
    {
      "cell_type": "code",
      "execution_count": null,
      "metadata": {
        "id": "5zp0yHeyJv92"
      },
      "outputs": [],
      "source": [
        "s = s.replace(' ', '')\n",
        "print(s, '\\n')\n",
        "if s == s[::-1]:\n",
        "  print(\"Yes, it's a palindrome!\")\n",
        "else:\n",
        "  print(\"No, it's not a palindrome\")"
      ],
      "id": "5zp0yHeyJv92"
    },
    {
      "cell_type": "markdown",
      "metadata": {
        "id": "0OIPbP2Wbw8c"
      },
      "source": [
        "### Zfill\n",
        "Pad a numeric string on the left with zeros using ``zfill``."
      ],
      "id": "0OIPbP2Wbw8c"
    },
    {
      "cell_type": "code",
      "execution_count": null,
      "metadata": {
        "id": "6vZ-vuFEbw5d"
      },
      "outputs": [],
      "source": [
        "number = \"50\"\n",
        "print(number.zfill(5))  # \"00050\""
      ],
      "id": "6vZ-vuFEbw5d"
    },
    {
      "cell_type": "markdown",
      "metadata": {
        "id": "dd3kj40BKsei"
      },
      "source": [
        "<br>Show *CIK* column of dataframe"
      ],
      "id": "dd3kj40BKsei"
    },
    {
      "cell_type": "code",
      "execution_count": null,
      "metadata": {
        "id": "-UVo5WmEbw15"
      },
      "outputs": [],
      "source": [
        "df[['CIK']]"
      ],
      "id": "-UVo5WmEbw15"
    },
    {
      "cell_type": "markdown",
      "metadata": {
        "id": "bf4AVTeAKxuI"
      },
      "source": [
        "<br>Grab value from first cell"
      ],
      "id": "bf4AVTeAKxuI"
    },
    {
      "cell_type": "code",
      "execution_count": null,
      "metadata": {
        "id": "1Dwb9yc2bwyn"
      },
      "outputs": [],
      "source": [
        "df[:1]['CIK'].item()"
      ],
      "id": "1Dwb9yc2bwyn"
    },
    {
      "cell_type": "code",
      "execution_count": null,
      "metadata": {
        "id": "2RBf8aZEbwu4"
      },
      "outputs": [],
      "source": [
        "print('# of characters in first CIK:', len(df[:1]['CIK'].item()))"
      ],
      "id": "2RBf8aZEbwu4"
    },
    {
      "cell_type": "markdown",
      "metadata": {
        "id": "LLN4Pj_2K8fG"
      },
      "source": [
        "<br>Create new column called *CIK15* and add as many zeroes as needed to the start of the cell to make the string 15 characters."
      ],
      "id": "LLN4Pj_2K8fG"
    },
    {
      "cell_type": "code",
      "execution_count": null,
      "metadata": {
        "id": "C8Vi-vldbwrO"
      },
      "outputs": [],
      "source": [
        "df['CIK15'] = df['CIK'].apply(lambda x: x.zfill(15))"
      ],
      "id": "C8Vi-vldbwrO"
    },
    {
      "cell_type": "code",
      "execution_count": null,
      "metadata": {
        "id": "qY--S9BebwmL"
      },
      "outputs": [],
      "source": [
        "df[['CIK', 'CIK15']]"
      ],
      "id": "qY--S9BebwmL"
    },
    {
      "cell_type": "code",
      "execution_count": null,
      "metadata": {
        "id": "iV0-C4x5bwWZ"
      },
      "outputs": [],
      "source": [
        "df[:1]['CIK15'].item()"
      ],
      "id": "iV0-C4x5bwWZ"
    },
    {
      "cell_type": "code",
      "execution_count": null,
      "metadata": {
        "id": "OdAujKIub8j9"
      },
      "outputs": [],
      "source": [
        "print('# of characters in first CIK after using zfill:', len(df[:1]['CIK15'].item()))"
      ],
      "id": "OdAujKIub8j9"
    },
    {
      "cell_type": "markdown",
      "metadata": {
        "id": "FrApO4nELzq_"
      },
      "source": [
        "<br>Add characters to end of string using ``ljust()``"
      ],
      "id": "FrApO4nELzq_"
    },
    {
      "cell_type": "code",
      "execution_count": null,
      "metadata": {
        "id": "m7bt19EzLqgS"
      },
      "outputs": [],
      "source": [
        "cik = '0001318605'\n",
        "print(cik.ljust(15, '0'))"
      ],
      "id": "m7bt19EzLqgS"
    },
    {
      "cell_type": "markdown",
      "metadata": {
        "id": "XwFGGQtGb8oj"
      },
      "source": [
        "### Strip Characters\n",
        "Besides whitespace, you can use ``strip``, ``lstrip``, and ``rstrip`` to remove blank space or specified characters from the string."
      ],
      "id": "XwFGGQtGb8oj"
    },
    {
      "cell_type": "code",
      "execution_count": null,
      "metadata": {
        "id": "89NFPTf7b8t5"
      },
      "outputs": [],
      "source": [
        "string = \"xxxyyyHello Worldyyxx\"\n",
        "print(string.strip('xy'))"
      ],
      "id": "89NFPTf7b8t5"
    },
    {
      "cell_type": "markdown",
      "metadata": {
        "id": "nCShz93Qb8xw"
      },
      "source": [
        "The ``lstrip()`` and ``rstrip()`` methods in Python are used to remove leading (at the start) and trailing (at the end) characters from a string, respectively. By default, these methods remove whitespace, but you can also specify other characters to remove. Here are some examples to illustrate their usage:"
      ],
      "id": "nCShz93Qb8xw"
    },
    {
      "cell_type": "markdown",
      "metadata": {
        "id": "y4uIk9kTb81l"
      },
      "source": [
        "<br>Removing leading whitespaces"
      ],
      "id": "y4uIk9kTb81l"
    },
    {
      "cell_type": "code",
      "execution_count": null,
      "metadata": {
        "id": "QHJd0kI3b843"
      },
      "outputs": [],
      "source": [
        "string = \"   Hello, World!   \"\n",
        "print(string)\n",
        "print(string.lstrip())"
      ],
      "id": "QHJd0kI3b843"
    },
    {
      "cell_type": "markdown",
      "metadata": {
        "id": "GUlQKMBdcNM2"
      },
      "source": [
        "<br>Remove specific trailing characters"
      ],
      "id": "GUlQKMBdcNM2"
    },
    {
      "cell_type": "code",
      "execution_count": null,
      "metadata": {
        "id": "4WCOJt9XcNQw"
      },
      "outputs": [],
      "source": [
        "string = \"xxxHello, World!xxx\"\n",
        "print(string.rstrip('x'))"
      ],
      "id": "4WCOJt9XcNQw"
    },
    {
      "cell_type": "markdown",
      "metadata": {
        "id": "d-VjSxVDcNVu"
      },
      "source": [
        "### Count Substring Occurrences\n",
        "Use count to find how many times a substring occurs in a string."
      ],
      "id": "d-VjSxVDcNVu"
    },
    {
      "cell_type": "code",
      "execution_count": null,
      "metadata": {
        "id": "kLlhfS5hcNZ6"
      },
      "outputs": [],
      "source": [
        "string = \"banana\"\n",
        "print(string.count('na'))  # 2"
      ],
      "id": "kLlhfS5hcNZ6"
    },
    {
      "cell_type": "code",
      "execution_count": null,
      "metadata": {
        "id": "KWyx-14BHCUd"
      },
      "outputs": [],
      "source": [
        "print(text.count('Tesla'))  # 2"
      ],
      "id": "KWyx-14BHCUd"
    },
    {
      "cell_type": "markdown",
      "metadata": {
        "id": "fmJw9S9TcNs6"
      },
      "source": [
        "### String to List Conversion (List Comprehension)\n",
        "Convert strings to lists using list comprehensions for more control over the elements."
      ],
      "id": "fmJw9S9TcNs6"
    },
    {
      "cell_type": "code",
      "execution_count": null,
      "metadata": {
        "id": "_8NBzauecgE1"
      },
      "outputs": [],
      "source": [
        "chars = [char for char in string]\n",
        "print(chars)"
      ],
      "id": "_8NBzauecgE1"
    },
    {
      "cell_type": "markdown",
      "metadata": {
        "id": "852kala4MzfW"
      },
      "source": [
        "<br>We can also use list comprehensions for selecting or replacing content, etc."
      ],
      "id": "852kala4MzfW"
    },
    {
      "cell_type": "code",
      "execution_count": null,
      "metadata": {
        "id": "4vreKtHBMw31"
      },
      "outputs": [],
      "source": [
        "word_list[:10]"
      ],
      "id": "4vreKtHBMw31"
    },
    {
      "cell_type": "code",
      "execution_count": null,
      "metadata": {
        "id": "8gDbDnpAM9R7"
      },
      "outputs": [],
      "source": [
        "[word for word in word_list[:10] if word!='risks']"
      ],
      "id": "8gDbDnpAM9R7"
    },
    {
      "cell_type": "markdown",
      "metadata": {
        "id": "MjlUwsn5zKMJ"
      },
      "source": [
        "### Use List Comprehension to Replace 'U.S.' with \"US\""
      ],
      "id": "MjlUwsn5zKMJ"
    },
    {
      "cell_type": "code",
      "execution_count": null,
      "metadata": {
        "id": "RJ05oghFzHE_"
      },
      "outputs": [],
      "source": [
        "word_list = [word.replace(\"U.S.\", \"US\") for word in word_list]"
      ],
      "id": "RJ05oghFzHE_"
    },
    {
      "cell_type": "markdown",
      "metadata": {
        "id": "OU7ZX2fbcgKs"
      },
      "source": [],
      "id": "OU7ZX2fbcgKs"
    },
    {
      "cell_type": "code",
      "execution_count": null,
      "metadata": {
        "id": "wkOYeSekcgPP"
      },
      "outputs": [],
      "source": [],
      "id": "wkOYeSekcgPP"
    },
    {
      "cell_type": "markdown",
      "metadata": {
        "id": "DmIo3ssK20s8"
      },
      "source": [
        "# Miscellaneous String Operations (Optional)\n",
        "Run through these on your own time if you are interested in playing more."
      ],
      "id": "DmIo3ssK20s8"
    },
    {
      "cell_type": "markdown",
      "metadata": {
        "id": "Z9C9wiCiDT4k"
      },
      "source": [
        "#### Strip\n",
        "``.strip()``: Remove whitespace at beginning and end of a string"
      ],
      "id": "Z9C9wiCiDT4k"
    },
    {
      "cell_type": "code",
      "execution_count": null,
      "metadata": {
        "id": "FkLxQ1VgDVow"
      },
      "outputs": [],
      "source": [
        "string = \"    Our business and our future plans for expansion are capital-intensive, and the specific.    \"\n",
        "string"
      ],
      "id": "FkLxQ1VgDVow"
    },
    {
      "cell_type": "code",
      "execution_count": null,
      "metadata": {
        "id": "IzoQvp8dDV3o"
      },
      "outputs": [],
      "source": [
        "string = string.strip()\n",
        "string"
      ],
      "id": "IzoQvp8dDV3o"
    },
    {
      "cell_type": "markdown",
      "metadata": {
        "id": "Im1rGUimDV6t"
      },
      "source": [
        "*Remove All Spaces*"
      ],
      "id": "Im1rGUimDV6t"
    },
    {
      "cell_type": "code",
      "execution_count": null,
      "metadata": {
        "id": "BDetH3ObDWPL"
      },
      "outputs": [],
      "source": [
        "no_spaces = string.replace(' ', '')\n",
        "no_spaces"
      ],
      "id": "BDetH3ObDWPL"
    },
    {
      "cell_type": "markdown",
      "metadata": {
        "id": "uyfxeKkrDWRw"
      },
      "source": [
        "*Remove Extra White Space*"
      ],
      "id": "uyfxeKkrDWRw"
    },
    {
      "cell_type": "code",
      "execution_count": null,
      "metadata": {
        "id": "Z6jy2EQoDWUP"
      },
      "outputs": [],
      "source": [
        "no_extra_spaces = string.replace('  ', ' ')\n",
        "no_extra_spaces"
      ],
      "id": "Z6jy2EQoDWUP"
    },
    {
      "cell_type": "markdown",
      "metadata": {
        "id": "V_uo5wdpDWXG"
      },
      "source": [
        "*No Line Breaks*"
      ],
      "id": "V_uo5wdpDWXG"
    },
    {
      "cell_type": "code",
      "execution_count": null,
      "metadata": {
        "id": "6MBMzQRNDWZ2"
      },
      "outputs": [],
      "source": [
        "string = 'Our business and\\t our future plans for expansion are\\n capital-intensive, and the specific.'\n",
        "print(string)"
      ],
      "id": "6MBMzQRNDWZ2"
    },
    {
      "cell_type": "code",
      "execution_count": null,
      "metadata": {
        "id": "Cfkvff5wDWc1"
      },
      "outputs": [],
      "source": [
        "no_line_breaks = string.replace('\\n', '')\n",
        "print(no_line_breaks)"
      ],
      "id": "Cfkvff5wDWc1"
    },
    {
      "cell_type": "markdown",
      "metadata": {
        "id": "Bcnx4tPrDWfI"
      },
      "source": [
        "*No Tabs*"
      ],
      "id": "Bcnx4tPrDWfI"
    },
    {
      "cell_type": "code",
      "execution_count": null,
      "metadata": {
        "id": "laJ5H-IRDWhm"
      },
      "outputs": [],
      "source": [
        "no_tabs = string.replace('\\t', '')\n",
        "print(no_tabs)"
      ],
      "id": "laJ5H-IRDWhm"
    },
    {
      "cell_type": "markdown",
      "metadata": {
        "id": "600Xh1-yEF1B"
      },
      "source": [
        "*No Tabs or Line Breaks*"
      ],
      "id": "600Xh1-yEF1B"
    },
    {
      "cell_type": "code",
      "execution_count": null,
      "metadata": {
        "id": "m2OEJGx4EJd0"
      },
      "outputs": [],
      "source": [
        "no_tabs_or_breaks = string.replace('\\t', '').replace('\\n', '')\n",
        "print(no_tabs_or_breaks)"
      ],
      "id": "m2OEJGx4EJd0"
    },
    {
      "cell_type": "markdown",
      "metadata": {
        "id": "DlMnGGLJ24gZ"
      },
      "source": [
        "#### String Translation\n",
        "The ``str.maketrans()`` and ``translate()`` methods can be used to replace or remove characters in a string."
      ],
      "id": "DlMnGGLJ24gZ"
    },
    {
      "cell_type": "code",
      "execution_count": null,
      "metadata": {
        "id": "BiFsY20f24-9"
      },
      "outputs": [],
      "source": [
        "intab = \"aeiou\"\n",
        "outtab = \"12345\"\n",
        "trantab = str.maketrans(intab, outtab)\n",
        "str = \"this is string example....wow!!!\"\n",
        "print(str.translate(trantab))"
      ],
      "id": "BiFsY20f24-9"
    },
    {
      "cell_type": "markdown",
      "metadata": {
        "id": "XUlmEeA525Iw"
      },
      "source": [
        "#### Expand Tabs\n",
        "Convert tab characters in a string into spaces using ``expandtabs``."
      ],
      "id": "XUlmEeA525Iw"
    },
    {
      "cell_type": "code",
      "execution_count": null,
      "metadata": {
        "id": "g-8VBbZl25Rj"
      },
      "outputs": [],
      "source": [
        "string = \"Hello\\tWorld\"\n",
        "print(string)\n",
        "print(string.expandtabs(24))  # \"Hello   World\""
      ],
      "id": "g-8VBbZl25Rj"
    },
    {
      "cell_type": "markdown",
      "metadata": {
        "id": "3pcKn5HY25ev"
      },
      "source": [
        "### String Formatting\n",
        "Python's ``format()`` method and f-strings (formatted string literals) make it easy to create neatly formatted strings."
      ],
      "id": "3pcKn5HY25ev"
    },
    {
      "cell_type": "code",
      "execution_count": null,
      "metadata": {
        "id": "pNnERk6l25iH"
      },
      "outputs": [],
      "source": [
        "name = \"Alice\"\n",
        "age = 25\n",
        "print(f\"My name is {name} and I am {age} years old.\")"
      ],
      "id": "pNnERk6l25iH"
    },
    {
      "cell_type": "markdown",
      "metadata": {
        "id": "_Y-ILm9b25oB"
      },
      "source": [
        "### String Encoding and Decoding\n",
        "In Python, you can encode strings into different formats like UTF-8 and decode them back."
      ],
      "id": "_Y-ILm9b25oB"
    },
    {
      "cell_type": "code",
      "execution_count": null,
      "metadata": {
        "id": "0Fl2P5hH25q1"
      },
      "outputs": [],
      "source": [
        "str = \"pythön!\"\n",
        "str_utf = str.encode(\"utf-8\")\n",
        "print(str_utf.decode(\"utf-8\"))"
      ],
      "id": "0Fl2P5hH25q1"
    },
    {
      "cell_type": "markdown",
      "metadata": {
        "id": "5N47ELTg25tt"
      },
      "source": [
        "### String Templates\n",
        "The string module provides a Template class which offers another way to substitute values into strings."
      ],
      "id": "5N47ELTg25tt"
    },
    {
      "cell_type": "code",
      "execution_count": null,
      "metadata": {
        "id": "JKvL4Csy25w8"
      },
      "outputs": [],
      "source": [
        "from string import Template\n",
        "t = Template('Hello, $name!')\n",
        "print(t.substitute(name='Alice'))"
      ],
      "id": "JKvL4Csy25w8"
    },
    {
      "cell_type": "markdown",
      "metadata": {
        "id": "lowgQyXn250F"
      },
      "source": [
        "### String Methods for Checking Content\n",
        "Python offers string methods like ``isdigit()``, ``isalpha()``, ``isalnum()``, ``islower()``, ``isupper()``, and ``isspace()`` to check the content of the string.\n",
        "\n",
        "- The ``isalnum()`` method returns True if all characters in the string are alphanumeric (either alphabets or numbers)"
      ],
      "id": "lowgQyXn250F"
    },
    {
      "cell_type": "code",
      "execution_count": null,
      "metadata": {
        "id": "H_8ajAFA252y"
      },
      "outputs": [],
      "source": [
        "print(len(word_list))\n",
        "print(\"First 5 words: \", word_list[:5])"
      ],
      "id": "H_8ajAFA252y"
    },
    {
      "cell_type": "code",
      "execution_count": null,
      "metadata": {
        "id": "UJ5o-F9A255-"
      },
      "outputs": [],
      "source": [
        "[word for word in word_list if word.isdigit()]"
      ],
      "id": "UJ5o-F9A255-"
    },
    {
      "cell_type": "markdown",
      "metadata": {
        "id": "f6LiR8oX258Z"
      },
      "source": [
        "### Find Substrings\n",
        "``find`` and ``rfind`` locate the first occurrence of a substring (from the left and right, respectively)."
      ],
      "id": "f6LiR8oX258Z"
    },
    {
      "cell_type": "code",
      "execution_count": null,
      "metadata": {
        "id": "q-MaZDXB25_R"
      },
      "outputs": [],
      "source": [
        "string = \"Hello world\"\n",
        "print(string.find('o'))  # 4"
      ],
      "id": "q-MaZDXB25_R"
    },
    {
      "cell_type": "markdown",
      "metadata": {
        "id": "tY1X9X9sHT0j"
      },
      "source": [
        "<br>Show character position of first and last instances of the word \"Tesla\" in our risk filing"
      ],
      "id": "tY1X9X9sHT0j"
    },
    {
      "cell_type": "code",
      "execution_count": null,
      "metadata": {
        "id": "oZZ1HsuaHVd3"
      },
      "outputs": [],
      "source": [
        "text.find('Tesla')"
      ],
      "id": "oZZ1HsuaHVd3"
    },
    {
      "cell_type": "code",
      "execution_count": null,
      "metadata": {
        "id": "OOpaa0maHZwd"
      },
      "outputs": [],
      "source": [
        "text.rfind('Tesla')"
      ],
      "id": "OOpaa0maHZwd"
    },
    {
      "cell_type": "markdown",
      "metadata": {
        "id": "f-m2Th9GJQ6u"
      },
      "source": [
        "# Tokenization and Parts of Speech Tagging"
      ],
      "id": "f-m2Th9GJQ6u"
    },
    {
      "cell_type": "markdown",
      "metadata": {
        "id": "IE0h-j5_pnPT"
      },
      "source": [
        "### Splitting text into words or sentences."
      ],
      "id": "IE0h-j5_pnPT"
    },
    {
      "cell_type": "code",
      "execution_count": null,
      "metadata": {
        "id": "5IibzPsoGd6W"
      },
      "outputs": [],
      "source": [
        "#%%time\n",
        "#!pip install textblob --quiet"
      ],
      "id": "5IibzPsoGd6W"
    },
    {
      "cell_type": "code",
      "execution_count": null,
      "metadata": {
        "id": "toUWXZs5Lz4k"
      },
      "outputs": [],
      "source": [
        "from textblob import TextBlob"
      ],
      "id": "toUWXZs5Lz4k"
    },
    {
      "cell_type": "code",
      "execution_count": null,
      "metadata": {
        "id": "kcgp00JhL800"
      },
      "outputs": [],
      "source": [
        "blob = TextBlob(text)"
      ],
      "id": "kcgp00JhL800"
    },
    {
      "cell_type": "code",
      "execution_count": null,
      "metadata": {
        "id": "5p_CpltLJUau"
      },
      "outputs": [],
      "source": [
        "print(blob.words)  # Word tokenization"
      ],
      "id": "5p_CpltLJUau"
    },
    {
      "cell_type": "code",
      "execution_count": null,
      "metadata": {
        "id": "dOqr6bo7JVbS"
      },
      "outputs": [],
      "source": [
        "print(blob[:10000].sentences)  # Sentence tokenization"
      ],
      "id": "dOqr6bo7JVbS"
    },
    {
      "cell_type": "markdown",
      "metadata": {
        "id": "yYF-AuLhJwEH"
      },
      "source": [
        "### Part-of-Speech Tagging\n",
        "TextBlob can also tag words in a sentence into parts of speech like nouns, verbs, adjectives, etc."
      ],
      "id": "yYF-AuLhJwEH"
    },
    {
      "cell_type": "code",
      "execution_count": null,
      "metadata": {
        "id": "VM6_yhfeMxow"
      },
      "outputs": [],
      "source": [
        "for word in blob[:150].tags:\n",
        "    print(word)"
      ],
      "id": "VM6_yhfeMxow"
    },
    {
      "cell_type": "markdown",
      "metadata": {
        "id": "tNou6plz23Q5"
      },
      "source": [
        "# Translation"
      ],
      "id": "tNou6plz23Q5"
    },
    {
      "cell_type": "code",
      "execution_count": null,
      "metadata": {
        "id": "5RJdD8iLGj8D"
      },
      "outputs": [],
      "source": [
        "#%%time\n",
        "#!pip install -U deep-translator --quiet"
      ],
      "id": "5RJdD8iLGj8D"
    },
    {
      "cell_type": "code",
      "execution_count": null,
      "metadata": {
        "id": "qVH7eDGA21dk"
      },
      "outputs": [],
      "source": [
        "from deep_translator import GoogleTranslator\n",
        "GoogleTranslator(source='auto', target='de').translate(\"keep it up, you are awesome\")"
      ],
      "id": "qVH7eDGA21dk"
    },
    {
      "cell_type": "code",
      "execution_count": null,
      "metadata": {
        "id": "Y6mDj5J526au"
      },
      "outputs": [],
      "source": [
        "GoogleTranslator(source='auto', target='en').translate('Mach weiter so, du bist großartig')"
      ],
      "id": "Y6mDj5J526au"
    },
    {
      "cell_type": "code",
      "execution_count": null,
      "metadata": {
        "id": "kKwwrHA626l0"
      },
      "outputs": [],
      "source": [
        "from deep_translator import GoogleTranslator\n",
        "GoogleTranslator(source='auto', target='fr').translate(text[:456])"
      ],
      "id": "kKwwrHA626l0"
    },
    {
      "cell_type": "code",
      "execution_count": null,
      "metadata": {
        "id": "C5JztTeT26rz"
      },
      "outputs": [],
      "source": [
        "GoogleTranslator(source='auto', target='en').translate(\"Vous devez examiner attentivement les risques décrits ci-dessous ainsi que les autres informations présentées dans ce rapport, qui pourraient affecter sensiblement nos activités, notre situation financière et nos résultats futurs. Les risques décrits ci-dessous ne sont pas les seuls risques auxquels notre entreprise est confrontée. Les risques et incertitudes dont nous ne sommes pas actuellement conscients ou que nous considérons actuellement comme négligeables peuvent également avoir un effet défavorable important sur notre activité, notre situation financière et nos résultats d'exploitation.\")"
      ],
      "id": "C5JztTeT26rz"
    },
    {
      "cell_type": "markdown",
      "metadata": {
        "id": "qh3NScH926xQ"
      },
      "source": [
        "# Text-to-Speech"
      ],
      "id": "qh3NScH926xQ"
    },
    {
      "cell_type": "code",
      "execution_count": null,
      "metadata": {
        "id": "TKfjZN_rGq8P"
      },
      "outputs": [],
      "source": [
        "#%%time\n",
        "#!pip install gtts --quiet"
      ],
      "id": "TKfjZN_rGq8P"
    },
    {
      "cell_type": "code",
      "execution_count": null,
      "metadata": {
        "id": "3zj158NY262l"
      },
      "outputs": [],
      "source": [
        "from gtts import gTTS\n",
        "\n",
        "# Language in which you want to convert\n",
        "language = 'en'"
      ],
      "id": "3zj158NY262l"
    },
    {
      "cell_type": "code",
      "execution_count": null,
      "metadata": {
        "id": "zJa0EF543pd2"
      },
      "outputs": [],
      "source": [
        "myobj = gTTS(text=text[:100], lang=language, slow=False)"
      ],
      "id": "zJa0EF543pd2"
    },
    {
      "cell_type": "code",
      "execution_count": null,
      "metadata": {
        "id": "o33WQ0rl3qRy"
      },
      "outputs": [],
      "source": [
        "# Passing the text and language to the engine,\n",
        "# here we have marked slow=False, which tells the module that the converted audio should have a high speed\n",
        "myobj = gTTS(text=text[:100], lang=language, slow=False)\n",
        "\n",
        "## Saving the converted audio in a mp3 file named 'converted_speech.mp3'\n",
        "#myobj.save(\"converted_speech.mp3\")\n",
        "\n",
        "## Playing the converted file\n",
        "# `Note that you need an external tool like mpg321 to play the mp3 file, which you can install on Linux using sudo apt-get install mpg321. On Windows, you can use any standard media player to play the mp3 file.\n",
        "#os.system(\"mpg321 converted_speech.mp3\")\n",
        "\n",
        "# Save the audio file\n",
        "audio_file = \"converted_speech.mp3\"\n",
        "myobj.save(audio_file)\n",
        "\n",
        "from IPython.display import Audio\n",
        "Audio(audio_file)"
      ],
      "id": "o33WQ0rl3qRy"
    },
    {
      "cell_type": "markdown",
      "metadata": {
        "id": "3luraKLiPBHW"
      },
      "source": [
        "# Named Entity Recognition (NER)"
      ],
      "id": "3luraKLiPBHW"
    },
    {
      "cell_type": "markdown",
      "metadata": {
        "id": "tYBR57T1tXgW"
      },
      "source": [
        "https://spacy.io/usage/spacy-101#annotations-ner"
      ],
      "id": "tYBR57T1tXgW"
    },
    {
      "cell_type": "code",
      "execution_count": null,
      "metadata": {
        "id": "uB708cDvGx6W"
      },
      "outputs": [],
      "source": [
        "#%%time\n",
        "#!python -m spacy download en --quiet"
      ],
      "id": "uB708cDvGx6W"
    },
    {
      "cell_type": "code",
      "execution_count": null,
      "metadata": {
        "id": "zvIYpnEBzzzV"
      },
      "outputs": [],
      "source": [
        "#%%time\n",
        "#SPACY SHOULD BE PRE-INSTALLED\n",
        "#!pip install spacy --quiet"
      ],
      "id": "zvIYpnEBzzzV"
    },
    {
      "cell_type": "code",
      "execution_count": null,
      "metadata": {
        "id": "6wWaAkJtqRdE"
      },
      "outputs": [],
      "source": [
        "from spacy import displacy"
      ],
      "id": "6wWaAkJtqRdE"
    },
    {
      "cell_type": "code",
      "execution_count": null,
      "metadata": {
        "id": "Iu2-49tlrEdF"
      },
      "outputs": [],
      "source": [
        "import spacy"
      ],
      "id": "Iu2-49tlrEdF"
    },
    {
      "cell_type": "code",
      "execution_count": null,
      "metadata": {
        "id": "4iG-ARpJrHvq"
      },
      "outputs": [],
      "source": [
        "# Load the English model\n",
        "nlp = spacy.load('en_core_web_sm')"
      ],
      "id": "4iG-ARpJrHvq"
    },
    {
      "cell_type": "code",
      "execution_count": null,
      "metadata": {
        "id": "o9CB3_amrA5b"
      },
      "outputs": [],
      "source": [
        "# Test it on some text\n",
        "doc = nlp(\"Hello Bob, I just bought an Apple computer in Berlin!\")\n",
        "for token in doc:\n",
        "    print(token.text)"
      ],
      "id": "o9CB3_amrA5b"
    },
    {
      "cell_type": "code",
      "execution_count": null,
      "metadata": {
        "id": "3disYT2Vq7nB"
      },
      "outputs": [],
      "source": [
        "# Display entities in the Jupyter Notebook\n",
        "displacy.render(doc, style='ent', jupyter=True)"
      ],
      "id": "3disYT2Vq7nB"
    },
    {
      "cell_type": "code",
      "execution_count": null,
      "metadata": {
        "id": "xvY8yHVhr_IC"
      },
      "outputs": [],
      "source": [
        "# Example text\n",
        "string = \"Google LLC is an American multinational technology company that specializes in Internet-related services and products.\"\n",
        "\n",
        "# Process the text\n",
        "doc = nlp(string)\n",
        "\n",
        "# Extract entities\n",
        "for ent in doc.ents:\n",
        "    print(ent.text, ent.label_)"
      ],
      "id": "xvY8yHVhr_IC"
    },
    {
      "cell_type": "code",
      "execution_count": null,
      "metadata": {
        "id": "k_ohISDmsCBY"
      },
      "outputs": [],
      "source": [
        "displacy.render(doc, style='ent', jupyter=True)"
      ],
      "id": "k_ohISDmsCBY"
    },
    {
      "cell_type": "code",
      "execution_count": null,
      "metadata": {
        "id": "eY2G5CTTPA8T"
      },
      "outputs": [],
      "source": [
        "#%%time\n",
        "#!pip install transformers"
      ],
      "id": "eY2G5CTTPA8T"
    },
    {
      "cell_type": "code",
      "execution_count": null,
      "metadata": {
        "id": "zSyZH0vkPAnR"
      },
      "outputs": [],
      "source": [
        "doc = nlp(text)\n",
        "\n",
        "for ent in doc.ents:\n",
        "    print(ent.text, ent.start_char, ent.end_char, ent.label_)"
      ],
      "id": "zSyZH0vkPAnR"
    },
    {
      "cell_type": "code",
      "execution_count": null,
      "metadata": {
        "id": "upkzM86RPAdX"
      },
      "outputs": [],
      "source": [
        "displacy.render(doc[:450], style='ent', jupyter=True)"
      ],
      "id": "upkzM86RPAdX"
    },
    {
      "cell_type": "markdown",
      "metadata": {
        "id": "VeNtB76skBIw"
      },
      "source": [
        "# Word Frequency"
      ],
      "id": "VeNtB76skBIw"
    },
    {
      "cell_type": "markdown",
      "metadata": {
        "id": "iC4BTysJtbk0"
      },
      "source": [
        "We still need to do one thing -- we need to break our combined string up into words. We do this with the *split( )* command in Python, which breaks the string up at each space. The output is a list with as manuy elements as there are words in the list. We see below that there are 12,028 elements (words) in our combined list -- in other words, the risk filing section of Tesla's most-recent 10-K filing collectively has 12,028 words."
      ],
      "id": "iC4BTysJtbk0"
    },
    {
      "cell_type": "code",
      "execution_count": null,
      "metadata": {
        "id": "-R6RPF1pkBBX"
      },
      "outputs": [],
      "source": [
        "word_list = text.split()\n",
        "print(len(word_list))\n",
        "print(\"First 5 words: \", word_list[:5])"
      ],
      "id": "-R6RPF1pkBBX"
    },
    {
      "cell_type": "markdown",
      "metadata": {
        "id": "rBxxesk4kA6A"
      },
      "source": [
        "#### 2,551 Unique Words"
      ],
      "id": "rBxxesk4kA6A"
    },
    {
      "cell_type": "code",
      "execution_count": null,
      "metadata": {
        "id": "E-5NgmjrkAwe"
      },
      "outputs": [],
      "source": [
        "print('# of Total Words:', len(word_list))\n",
        "print('# of Unique Words:', len(set(word_list)))"
      ],
      "id": "E-5NgmjrkAwe"
    },
    {
      "cell_type": "code",
      "execution_count": null,
      "metadata": {
        "id": "XLZzsSQtkAo7"
      },
      "outputs": [],
      "source": [
        "Series(word_list).value_counts()[:25]"
      ],
      "id": "XLZzsSQtkAo7"
    },
    {
      "cell_type": "markdown",
      "metadata": {
        "id": "HvAjoZRy03-Y"
      },
      "source": [
        "#### Remove 'stopwords'"
      ],
      "id": "HvAjoZRy03-Y"
    },
    {
      "cell_type": "code",
      "execution_count": null,
      "metadata": {
        "id": "wsOnOavakAiF"
      },
      "outputs": [],
      "source": [
        "import nltk\n",
        "from nltk.corpus import stopwords\n",
        "#from nltk.tokenize import word_tokenize"
      ],
      "id": "wsOnOavakAiF"
    },
    {
      "cell_type": "code",
      "execution_count": null,
      "metadata": {
        "id": "Dw4tkwcorR-n"
      },
      "outputs": [],
      "source": [
        "nltk.download('stopwords')"
      ],
      "id": "Dw4tkwcorR-n"
    },
    {
      "cell_type": "code",
      "execution_count": null,
      "metadata": {
        "id": "QURj2mmrkAa0"
      },
      "outputs": [],
      "source": [
        "# NLTK's default stop words\n",
        "stop_words = set(stopwords.words('english'))"
      ],
      "id": "QURj2mmrkAa0"
    },
    {
      "cell_type": "code",
      "execution_count": null,
      "metadata": {
        "id": "SJeKLUO1rQ8z"
      },
      "outputs": [],
      "source": [
        "# Remove stop words\n",
        "filtered_text = [word for word in word_list if not word.lower() in stop_words]\n",
        "\n",
        "# Join words back into a string\n",
        "filtered_text_string = ' '.join(filtered_text)\n",
        "\n",
        "print(len(filtered_text_string))\n",
        "print(filtered_text_string[:1000])"
      ],
      "id": "SJeKLUO1rQ8z"
    },
    {
      "cell_type": "code",
      "execution_count": null,
      "metadata": {
        "id": "9qAM98WkkANz"
      },
      "outputs": [],
      "source": [
        "len(filtered_text_string.split())"
      ],
      "id": "9qAM98WkkANz"
    },
    {
      "cell_type": "code",
      "execution_count": null,
      "metadata": {
        "id": "QIYqlwBMTLjQ"
      },
      "outputs": [],
      "source": [
        "wordcount_df = DataFrame(Series(filtered_text).value_counts())\n",
        "wordcount_df.columns = ['frequency']\n",
        "print(len(wordcount_df))\n",
        "wordcount_df[:10]"
      ],
      "id": "QIYqlwBMTLjQ"
    },
    {
      "cell_type": "markdown",
      "metadata": {
        "id": "g9YScS5xvybb"
      },
      "source": [
        "# Word Clouds"
      ],
      "id": "g9YScS5xvybb"
    },
    {
      "cell_type": "markdown",
      "metadata": {
        "id": "7iaX0Wojtk7P"
      },
      "source": [
        "https://python-charts.com/ranking/wordcloud-matplotlib/"
      ],
      "id": "7iaX0Wojtk7P"
    },
    {
      "cell_type": "markdown",
      "metadata": {
        "id": "krtWZe0ppDrN"
      },
      "source": [
        "##### Download specific font (if not done at beginning)"
      ],
      "id": "krtWZe0ppDrN"
    },
    {
      "cell_type": "code",
      "execution_count": null,
      "metadata": {
        "id": "IZibCve1pCsn"
      },
      "outputs": [],
      "source": [
        "#!wget 'https://github.com/gdsaxton/Textual_Analysis/blob/main/CabinSketch-Bold.ttf?raw=true' --quiet"
      ],
      "id": "IZibCve1pCsn"
    },
    {
      "cell_type": "code",
      "execution_count": null,
      "metadata": {
        "id": "jPWokG7ApHy3"
      },
      "outputs": [],
      "source": [
        "#os.listdir()"
      ],
      "id": "jPWokG7ApHy3"
    },
    {
      "cell_type": "code",
      "execution_count": null,
      "metadata": {
        "id": "lQqH4qx7pHUv"
      },
      "outputs": [],
      "source": [
        "#pwd"
      ],
      "id": "lQqH4qx7pHUv"
    },
    {
      "cell_type": "code",
      "execution_count": null,
      "metadata": {
        "id": "vGb2Pv_Qbad3"
      },
      "outputs": [],
      "source": [
        "#%%time\n",
        "#!pip install wordcloud --quiet"
      ],
      "id": "vGb2Pv_Qbad3"
    },
    {
      "cell_type": "code",
      "execution_count": null,
      "metadata": {
        "id": "izoDfrhoN4Wz"
      },
      "outputs": [],
      "source": [
        "%%time\n",
        "wordcloud = WordCloud(font_path='/content/CabinSketch-Bold.ttf',\n",
        "                      background_color='white',\n",
        "                      width=1400,\n",
        "                      height=700\n",
        "                     ).generate(filtered_text_string)\n",
        "plt.imshow(wordcloud)\n",
        "plt.axis('off')\n",
        "plt.show()"
      ],
      "id": "izoDfrhoN4Wz"
    },
    {
      "cell_type": "code",
      "execution_count": null,
      "metadata": {
        "id": "lav7OFzFsyiY"
      },
      "outputs": [],
      "source": [
        "plt.rcParams['figure.figsize'] = (15, 5)"
      ],
      "id": "lav7OFzFsyiY"
    },
    {
      "cell_type": "code",
      "execution_count": null,
      "metadata": {
        "id": "tRVwRf1dTEUq"
      },
      "outputs": [],
      "source": [
        "# Circle mask\n",
        "x, y = np.ogrid[:300, :300]\n",
        "mask = (x - 150) ** 2 + (y - 150) ** 2 > 130 ** 2\n",
        "mask = 255 * mask.astype(int)\n",
        "\n",
        "wc = WordCloud(background_color = \"white\", repeat = True, mask = mask,\n",
        "               font_path='/content/CabinSketch-Bold.ttf',\n",
        "               height = 300, width = 300,\n",
        "               #max_words = 25,\n",
        "               contour_width = 3, contour_color = \"black\")\n",
        "wc.generate(filtered_text_string)\n",
        "\n",
        "plt.axis(\"off\")\n",
        "plt.imshow(wc, interpolation = \"bilinear\")"
      ],
      "id": "tRVwRf1dTEUq"
    },
    {
      "cell_type": "markdown",
      "metadata": {
        "id": "sNUCjxSlyGap"
      },
      "source": [
        "### Comparing TSLA words with most common English-language words\n",
        "``wordfreq`` package\n",
        "https://github.com/rspeer/wordfreq"
      ],
      "id": "sNUCjxSlyGap"
    },
    {
      "cell_type": "code",
      "execution_count": null,
      "metadata": {
        "id": "YJzgBgCYHG4T"
      },
      "outputs": [],
      "source": [
        "#%%time\n",
        "#!pip install wordfreq --quiet"
      ],
      "id": "YJzgBgCYHG4T"
    },
    {
      "cell_type": "code",
      "execution_count": null,
      "metadata": {
        "id": "sBEJZxntTHCt"
      },
      "outputs": [],
      "source": [
        "from wordfreq import top_n_list\n",
        "most_common_words = top_n_list('en', 2000)"
      ],
      "id": "sBEJZxntTHCt"
    },
    {
      "cell_type": "code",
      "execution_count": null,
      "metadata": {
        "id": "pTwlrhoITwou"
      },
      "outputs": [],
      "source": [
        "print(len(most_common_words))\n",
        "most_common_words[:10]"
      ],
      "id": "pTwlrhoITwou"
    },
    {
      "cell_type": "code",
      "execution_count": null,
      "metadata": {
        "id": "mmkC0NxcV8FB"
      },
      "outputs": [],
      "source": [
        "most_common_words[-10:]"
      ],
      "id": "mmkC0NxcV8FB"
    },
    {
      "cell_type": "markdown",
      "metadata": {
        "id": "2bpoFYZd-6QB"
      },
      "source": [
        "##### Compare Top 1,000 Words"
      ],
      "id": "2bpoFYZd-6QB"
    },
    {
      "cell_type": "code",
      "execution_count": null,
      "metadata": {
        "id": "VCRPvTDUWNqw"
      },
      "outputs": [],
      "source": [
        "print(len(set(most_common_words[:1000]) - set(wordcount_df[:1000].index.tolist())))"
      ],
      "id": "VCRPvTDUWNqw"
    },
    {
      "cell_type": "code",
      "execution_count": null,
      "metadata": {
        "id": "JfwXwE1iyVD3"
      },
      "outputs": [],
      "source": [
        "print(len(wordcount_df))\n",
        "print(len(set(wordcount_df[:1000].index.tolist()) - set(most_common_words[:1000])))"
      ],
      "id": "JfwXwE1iyVD3"
    },
    {
      "cell_type": "code",
      "execution_count": null,
      "metadata": {
        "id": "ZxLOWnaFyVQp"
      },
      "outputs": [],
      "source": [
        "print('Top 1,000 English words not in top 1,000 Tesla Risk Factors section:',\n",
        "      set(most_common_words[:1000]) - set(wordcount_df[:1000].index.tolist()))"
      ],
      "id": "ZxLOWnaFyVQp"
    },
    {
      "cell_type": "markdown",
      "metadata": {
        "id": "FeXI0mD7yVYU"
      },
      "source": [
        "### Show 1,000 Most-Common English Words Not in Tesla Risk Factors Section"
      ],
      "id": "FeXI0mD7yVYU"
    },
    {
      "cell_type": "code",
      "execution_count": null,
      "metadata": {
        "id": "E0l7mYgBynDD"
      },
      "outputs": [],
      "source": [
        "not_in_TSLA = list(set(most_common_words[:1000]) - set(wordcount_df[:].index.tolist()))\n",
        "print(type(not_in_TSLA))\n",
        "print(len(not_in_TSLA))\n",
        "not_in_TSLA[:5]"
      ],
      "id": "E0l7mYgBynDD"
    },
    {
      "cell_type": "code",
      "execution_count": null,
      "metadata": {
        "id": "ACjHb4Q8yVet"
      },
      "outputs": [],
      "source": [
        "plt.rcParams['figure.figsize'] = (15, 5)\n",
        "\n",
        "# Circle mask\n",
        "x, y = np.ogrid[:300, :300]\n",
        "mask = (x - 150) ** 2 + (y - 150) ** 2 > 130 ** 2\n",
        "mask = 255 * mask.astype(int)\n",
        "\n",
        "wc = WordCloud(background_color = \"white\", repeat = True, mask = mask,\n",
        "               font_path='/content/CabinSketch-Bold.ttf',\n",
        "               contour_width = 1, contour_color = \"black\")\n",
        "wc.generate(' '.join(not_in_TSLA))\n",
        "\n",
        "plt.axis(\"off\")\n",
        "plt.imshow(wc, interpolation = \"bilinear\")"
      ],
      "id": "ACjHb4Q8yVet"
    },
    {
      "cell_type": "markdown",
      "metadata": {
        "id": "JDSJkFwOyVkV"
      },
      "source": [
        "### Show Words in Tesla Risk Factors Section That are Not in the Top 1,000 Most-Common English Words"
      ],
      "id": "JDSJkFwOyVkV"
    },
    {
      "cell_type": "code",
      "execution_count": null,
      "metadata": {
        "id": "wKM4tg4RyVp9"
      },
      "outputs": [],
      "source": [
        "print(len(word_list))\n",
        "print(\"First 5 words: \", word_list[:5])"
      ],
      "id": "wKM4tg4RyVp9"
    },
    {
      "cell_type": "code",
      "execution_count": null,
      "metadata": {
        "id": "onRSGuJ8yVxf"
      },
      "outputs": [],
      "source": [
        "word_list_v2 = [word for word in word_list if word not in most_common_words[:2000]]\n",
        "print(len(word_list_v2))\n",
        "print(len(set(word_list_v2)))\n",
        "word_list_v2[:5]"
      ],
      "id": "onRSGuJ8yVxf"
    },
    {
      "cell_type": "code",
      "execution_count": null,
      "metadata": {
        "id": "a9-rl8xoyV4f"
      },
      "outputs": [],
      "source": [
        "plt.rcParams['figure.figsize'] = (15, 5)\n",
        "\n",
        "# Circle mask\n",
        "x, y = np.ogrid[:300, :300]\n",
        "mask = (x - 150) ** 2 + (y - 150) ** 2 > 130 ** 2\n",
        "mask = 255 * mask.astype(int)\n",
        "\n",
        "wc = WordCloud(background_color = \"white\", repeat = True, mask = mask,\n",
        "               font_path='/content/CabinSketch-Bold.ttf',\n",
        "               contour_width = 1, contour_color = \"black\")\n",
        "wc.generate(' '.join(word_list_v2))\n",
        "\n",
        "plt.axis(\"off\")\n",
        "plt.imshow(wc, interpolation = \"bilinear\")"
      ],
      "id": "a9-rl8xoyV4f"
    },
    {
      "cell_type": "markdown",
      "metadata": {
        "id": "X6OM7kLG2OV8"
      },
      "source": [
        "# Readability"
      ],
      "id": "X6OM7kLG2OV8"
    },
    {
      "cell_type": "markdown",
      "metadata": {
        "id": "Bz7Xo4z1tn5G"
      },
      "source": [
        "This can be done before sending out a document to a target audience\n",
        "\n",
        "https://pypi.org/project/textstat/"
      ],
      "id": "Bz7Xo4z1tn5G"
    },
    {
      "cell_type": "code",
      "execution_count": null,
      "metadata": {
        "id": "gyIpnvDEHN8v"
      },
      "outputs": [],
      "source": [
        "#%%time\n",
        "#!pip install textstat --quiet"
      ],
      "id": "gyIpnvDEHN8v"
    },
    {
      "cell_type": "code",
      "execution_count": null,
      "metadata": {
        "id": "fuT7Jequ2OOM"
      },
      "outputs": [],
      "source": [
        "import textstat"
      ],
      "id": "fuT7Jequ2OOM"
    },
    {
      "cell_type": "markdown",
      "metadata": {
        "id": "sBnkj3sl5uk8"
      },
      "source": [
        "### Flesch Reading Ease\n",
        "Flesch Reading Ease: Scores typically between 0-100. Higher scores indicate material that is easier to read; lower numbers mark passages that are more difficult to read."
      ],
      "id": "sBnkj3sl5uk8"
    },
    {
      "cell_type": "code",
      "execution_count": null,
      "metadata": {
        "id": "DCWIxPSu2OHP"
      },
      "outputs": [],
      "source": [
        "# Flesch Reading Ease\n",
        "flesch_reading_score = textstat.flesch_reading_ease(text)\n",
        "print(\"Flesch Reading Ease:\", flesch_reading_score)"
      ],
      "id": "DCWIxPSu2OHP"
    },
    {
      "cell_type": "code",
      "execution_count": null,
      "metadata": {
        "id": "-FN2qme-2N_D"
      },
      "outputs": [],
      "source": [
        "from IPython.display import Image\n",
        "Image(width=800, filename='Flesch Reading Score.png')"
      ],
      "id": "-FN2qme-2N_D"
    },
    {
      "cell_type": "markdown",
      "metadata": {
        "id": "AYObuMnx8yEm"
      },
      "source": [
        "### Flesch-Kincaid Grade Level\n",
        "\n",
        "Flesch-Kincaid Grade Level: Shows the US grade level needed to understand the text. For example, a score of 8 means eighth grade."
      ],
      "id": "AYObuMnx8yEm"
    },
    {
      "cell_type": "code",
      "execution_count": null,
      "metadata": {
        "id": "At9u2LJ18x-m"
      },
      "outputs": [],
      "source": [
        "flesch_kincaid_grade = textstat.flesch_kincaid_grade(text)\n",
        "print(\"Flesch-Kincaid Grade Level:\", flesch_kincaid_grade)"
      ],
      "id": "At9u2LJ18x-m"
    },
    {
      "cell_type": "code",
      "execution_count": null,
      "metadata": {
        "id": "2IhjqrJi8x5A"
      },
      "outputs": [],
      "source": [
        "from IPython.display import Image\n",
        "Image(width=800, filename='Flesch-Kincaid.png')"
      ],
      "id": "2IhjqrJi8x5A"
    },
    {
      "cell_type": "markdown",
      "metadata": {
        "id": "_rrPBhQI8xg7"
      },
      "source": [
        "### Gunning Fog Index\n",
        "Gunning Fog Index: Estimates the years of formal education needed to understand the text on the first reading. Higher scores indicate harder texts. For instance, a fog index of 12 requires the reading level of a United States high school senior (around 18 years old)."
      ],
      "id": "_rrPBhQI8xg7"
    },
    {
      "cell_type": "code",
      "execution_count": null,
      "metadata": {
        "id": "cV6LHUBTCETl"
      },
      "outputs": [],
      "source": [
        "textstat.gunning_fog(text)"
      ],
      "id": "cV6LHUBTCETl"
    },
    {
      "cell_type": "code",
      "execution_count": null,
      "metadata": {
        "id": "adaKpr4g8xV_"
      },
      "outputs": [],
      "source": [
        "from IPython.display import Image\n",
        "Image(width=300, filename='Gunning-Fog.png')"
      ],
      "id": "adaKpr4g8xV_"
    },
    {
      "cell_type": "markdown",
      "metadata": {
        "id": "t3UKWdLBCSu4"
      },
      "source": [
        "### SMOG Index - \"Simple Measure of Gobbledygook\"\n",
        "\n",
        "The SMOG index is a measure of readability that estimates the years of education needed to understand a piece of writing.\n",
        "\n",
        "Used commonly in health care sector"
      ],
      "id": "t3UKWdLBCSu4"
    },
    {
      "cell_type": "code",
      "execution_count": null,
      "metadata": {
        "id": "P9QFUoi28xQn"
      },
      "outputs": [],
      "source": [
        "smog_index = textstat.smog_index(text)\n",
        "print(\"SMOG Index:\", smog_index)\n",
        "# Other metrics can be calculated in a similar manner"
      ],
      "id": "P9QFUoi28xQn"
    },
    {
      "cell_type": "markdown",
      "metadata": {
        "id": "HhfiulkqDdt3"
      },
      "source": [
        "# Sentiment"
      ],
      "id": "HhfiulkqDdt3"
    },
    {
      "cell_type": "markdown",
      "metadata": {
        "id": "FIiFDLde2NoP"
      },
      "source": [
        "##### Using VADER\n",
        "This will give you a sentiment score in terms of positive, negative, neutral, and compound values, where the compound score typically represents the overall sentiment.\n",
        "\n",
        "VADER (Valence Aware Dictionary and sEntiment Reasoner) is a lexicon and rule-based sentiment analysis tool."
      ],
      "id": "FIiFDLde2NoP"
    },
    {
      "cell_type": "code",
      "execution_count": null,
      "metadata": {
        "id": "29A8LzHZHYMr"
      },
      "outputs": [],
      "source": [
        "#%%time\n",
        "#!pip install vaderSentiment --quiet"
      ],
      "id": "29A8LzHZHYMr"
    },
    {
      "cell_type": "code",
      "execution_count": null,
      "metadata": {
        "id": "qnkR2JoB2Ngg"
      },
      "outputs": [],
      "source": [
        "from vaderSentiment.vaderSentiment import SentimentIntensityAnalyzer\n",
        "analyzer = SentimentIntensityAnalyzer()"
      ],
      "id": "qnkR2JoB2Ngg"
    },
    {
      "cell_type": "markdown",
      "metadata": {
        "id": "WIGR1KheDtUr"
      },
      "source": [
        "The compound score is computed by summing the valence scores of each word in the lexicon, adjusted according to the rules, and then normalized to be between -1 (most extreme negative) and +1 (most extreme positive). This is the most useful metric if you want a single unidimensional measure of sentiment for a given sentence. Calling it a 'normalized, weighted composite score' is accurate.\n",
        "\n",
        "It is also useful for researchers who would like to set standardized thresholds for classifying sentences as either positive, neutral, or negative. Typical threshold values (used in the literature cited on this page) are:\n",
        "\n",
        "positive sentiment: compound score >= 0.05\n",
        "\n",
        "neutral sentiment: (compound score > -0.05) and (compound score < 0.05)\n",
        "\n",
        "negative sentiment: compound score <= -0.05"
      ],
      "id": "WIGR1KheDtUr"
    },
    {
      "cell_type": "code",
      "execution_count": null,
      "metadata": {
        "id": "cdtl3UFcDtP4"
      },
      "outputs": [],
      "source": [
        "%%time\n",
        "sentiment_dict = analyzer.polarity_scores(text)\n",
        "print(sentiment_dict)"
      ],
      "id": "cdtl3UFcDtP4"
    },
    {
      "cell_type": "code",
      "execution_count": null,
      "metadata": {
        "id": "rhrznm6IDtJj"
      },
      "outputs": [],
      "source": [
        "print(\"Overall sentiment dictionary is : \", sentiment_dict)\n",
        "print(\"sentence was rated as \", sentiment_dict['neg']*100, \"% Negative\")\n",
        "print(\"sentence was rated as \", sentiment_dict['neu']*100, \"% Neutral\")\n",
        "print(\"sentence was rated as \", sentiment_dict['pos']*100, \"% Positive\")"
      ],
      "id": "rhrznm6IDtJj"
    },
    {
      "cell_type": "markdown",
      "metadata": {
        "id": "X_lmiI9wKyip"
      },
      "source": [
        "# Text Similarity"
      ],
      "id": "X_lmiI9wKyip"
    },
    {
      "cell_type": "markdown",
      "metadata": {
        "id": "FDvojOqMt01D"
      },
      "source": [
        "https://spotintelligence.com/2022/12/19/text-similarity-python/"
      ],
      "id": "FDvojOqMt01D"
    },
    {
      "cell_type": "code",
      "execution_count": null,
      "metadata": {
        "id": "zD9ktpLiKynY"
      },
      "outputs": [],
      "source": [
        "from sklearn.feature_extraction.text import TfidfVectorizer\n",
        "from sklearn.metrics.pairwise import cosine_similarity"
      ],
      "id": "zD9ktpLiKynY"
    },
    {
      "cell_type": "markdown",
      "metadata": {
        "id": "EvbJgXu_Kysm"
      },
      "source": [
        "##### Calculate TF-IDF Vectors\n",
        "TF-IDF is a numerical statistic that reflects how important a word is to a document in a collection of documents. It's a common algorithm used in text mining and information retrieval.\n",
        "\n",
        "You'll need the TfidfVectorizer from sklearn.feature_extraction.text to convert the text data into TF-IDF vectors."
      ],
      "id": "EvbJgXu_Kysm"
    },
    {
      "cell_type": "code",
      "execution_count": null,
      "metadata": {
        "id": "leM4ARItPDLc"
      },
      "outputs": [],
      "source": [
        "pd.set_option('display.max_colwidth', 150)"
      ],
      "id": "leM4ARItPDLc"
    },
    {
      "cell_type": "code",
      "execution_count": null,
      "metadata": {
        "id": "kF1ZeBfeOnXD"
      },
      "outputs": [],
      "source": [
        "df"
      ],
      "id": "kF1ZeBfeOnXD"
    },
    {
      "cell_type": "code",
      "execution_count": null,
      "metadata": {
        "id": "-AtCxZLAKyxj"
      },
      "outputs": [],
      "source": [
        "# Extract the Risk Factors sections\n",
        "text_2023 = df[(df['Reporting Period'] == '20231231')&(df['ticker']=='TSLA')]['1A_Text'].iloc[0]\n",
        "text_2022 = df[(df['Reporting Period'] == '20221231')&(df['ticker']=='TSLA')]['1A_Text'].iloc[0]\n",
        "\n",
        "# Create a TfidfVectorizer object\n",
        "vectorizer = TfidfVectorizer()\n",
        "\n",
        "# Convert the text to TF-IDF vectors\n",
        "tfidf_matrix = vectorizer.fit_transform([text_2023, text_2022])"
      ],
      "id": "-AtCxZLAKyxj"
    },
    {
      "cell_type": "markdown",
      "metadata": {
        "id": "90ws0quQKbXK"
      },
      "source": [
        "##### Compute Cosine Similarity\n",
        "After converting the text sections into TF-IDF vectors, you can use cosine similarity to determine how similar these vectors (and thus the texts) are to each other. Cosine similarity measures the cosine of the angle between two non-zero vectors in a multi-dimensional space, which in this context represents the similarity between two documents."
      ],
      "id": "90ws0quQKbXK"
    },
    {
      "cell_type": "code",
      "execution_count": null,
      "metadata": {
        "id": "5AdD1a2FKbPC"
      },
      "outputs": [],
      "source": [
        "%%time\n",
        "# Compute the cosine similarity\n",
        "similarity = cosine_similarity(tfidf_matrix[0:1], tfidf_matrix[1:2])\n",
        "\n",
        "print(f\"Cosine similarity between the Risk Factors sections of 2023 and 2024: {similarity[0][0]}\", '\\n')"
      ],
      "id": "5AdD1a2FKbPC"
    },
    {
      "cell_type": "markdown",
      "metadata": {
        "id": "VgwOSV7bPRyR"
      },
      "source": [
        "<br>The resulting cosine similarity value ranges from -1 to 1, where -1 indicates completely dissimilar documents, and 1 indicates identical documents. A value of 0 indicates that the two documents are orthogonal and have no similarity."
      ],
      "id": "VgwOSV7bPRyR"
    },
    {
      "cell_type": "code",
      "execution_count": null,
      "metadata": {
        "id": "hUjCAcuHLRLQ"
      },
      "outputs": [],
      "source": [
        "cosine_similarity(tfidf_matrix)[0]"
      ],
      "id": "hUjCAcuHLRLQ"
    },
    {
      "cell_type": "markdown",
      "metadata": {
        "id": "2iLhuusSLRRH"
      },
      "source": [
        "# Gauge Plots - Summarize Similarity, Sentiment, and Readability"
      ],
      "id": "2iLhuusSLRRH"
    },
    {
      "cell_type": "markdown",
      "metadata": {
        "id": "qKgPvYEYt5Ok"
      },
      "source": [
        "https://plotly.com/python/gauge-charts/"
      ],
      "id": "qKgPvYEYt5Ok"
    },
    {
      "cell_type": "code",
      "execution_count": null,
      "metadata": {
        "id": "SsziqX6MZTu1"
      },
      "outputs": [],
      "source": [
        "import plotly.graph_objects as go\n",
        "import plotly.io as pio\n",
        "#pio.renderers.default = \"plotly_mimetype+notebook\"\n",
        "#pio.renderers.default = \"plotly_mimetype+notebook_connected\" #FOR LOCAL JUPYTER NOTEBOOK\n",
        "pio.renderers.default = 'colab'"
      ],
      "id": "SsziqX6MZTu1"
    },
    {
      "cell_type": "code",
      "execution_count": null,
      "metadata": {
        "id": "VeTkaGl5ZXvI"
      },
      "outputs": [],
      "source": [
        "import plotly.graph_objs as go\n",
        "\n",
        "\n",
        "\n",
        "from plotly.subplots import make_subplots\n",
        "\n",
        "# traces with separate domains to form a subplot\n",
        "trace1 = go.Indicator(mode=\"gauge+number\",    value=similarity[0][0]*100,\n",
        "                      domain={'row' : 1, 'column' : 1},  title={'text': \"Similarity\"},\n",
        "                      gauge = {'axis': {'range': [None, 100]}}\n",
        "                     )\n",
        "\n",
        "#dfceo[dfceo['screen_name']==ceo]['positive_replies'].values[0]\n",
        "\n",
        "trace2 = go.Indicator(mode=\"gauge+number\", value=sentiment_dict['neg']*100,\n",
        "                      domain={'row' : 1, 'column' : 2},    title={'text': \"Sentiment (% Negative)\"},\n",
        "                      gauge = {'axis': {'range': [None, 100]}}\n",
        "                     )\n",
        "\n",
        "trace3 = go.Indicator(mode=\"gauge+number\", value=flesch_reading_score,\n",
        "                      domain={'row' : 1, 'column' : 3},   title={'text': \"Readability\"},\n",
        "                      gauge = {'axis': {'range': [None, 100]}}\n",
        "                     )\n",
        "\n",
        "fig1 = make_subplots(\n",
        "    rows=1,\n",
        "    cols=3,\n",
        "    specs=[[{'type' : 'indicator'}, {'type' : 'indicator'}, {'type' : 'indicator'}]],\n",
        "    )\n",
        "\n",
        "fig1.append_trace(trace1, row=1, col=1)\n",
        "fig1.append_trace(trace2, row=1, col=2)\n",
        "fig1.append_trace(trace3, row=1, col=3)\n",
        "\n",
        "fig1.show()"
      ],
      "id": "VeTkaGl5ZXvI"
    },
    {
      "cell_type": "markdown",
      "metadata": {
        "id": "HX3c2A33KcBs"
      },
      "source": [
        "# Summarize"
      ],
      "id": "HX3c2A33KcBs"
    },
    {
      "cell_type": "code",
      "execution_count": null,
      "metadata": {
        "id": "nT5HxbF1HqdY"
      },
      "outputs": [],
      "source": [
        "#%%time\n",
        "#!pip install sumy --quiet"
      ],
      "id": "nT5HxbF1HqdY"
    },
    {
      "cell_type": "code",
      "execution_count": null,
      "metadata": {
        "id": "Y4Ft5K9QKb69"
      },
      "outputs": [],
      "source": [
        "from sumy.parsers.plaintext import PlaintextParser\n",
        "from sumy.nlp.tokenizers import Tokenizer\n",
        "\n",
        "# Parse the text\n",
        "parser = PlaintextParser.from_string(text, Tokenizer(\"english\"))"
      ],
      "id": "Y4Ft5K9QKb69"
    },
    {
      "cell_type": "markdown",
      "metadata": {
        "id": "AAubLjFTKb0A"
      },
      "source": [
        "#### Use the different summarizers\n",
        "https://miso-belica.github.io/sumy/summarizators.html"
      ],
      "id": "AAubLjFTKb0A"
    },
    {
      "cell_type": "markdown",
      "metadata": {
        "id": "ArfauPxDKbsl"
      },
      "source": [
        "##### Luhn\n",
        "Heuristic method - the simplest real-world algorithm. It’s the first one known and it’s based on the assumption that the most important sentences are those with the most significant words. The significant words are those which are more often in the text but at the same time, they don’t belong among stop-words."
      ],
      "id": "ArfauPxDKbsl"
    },
    {
      "cell_type": "code",
      "execution_count": null,
      "metadata": {
        "id": "AqhihPzPKblN"
      },
      "outputs": [],
      "source": [
        "%%time\n",
        "from sumy.summarizers.luhn import LuhnSummarizer\n",
        "\n",
        "# Using Luhn Summarizer\n",
        "summarizer = LuhnSummarizer()\n",
        "\n",
        "# Summarize the text\n",
        "summary = summarizer(parser.document, 5)  # Number of sentences in the summary\n",
        "\n",
        "#for sentence in summary:\n",
        "#   print(sentence, '\\n')\n",
        "\n",
        "summary"
      ],
      "id": "AqhihPzPKblN"
    },
    {
      "cell_type": "code",
      "execution_count": null,
      "metadata": {
        "id": "a5eXdIWWKoMk"
      },
      "outputs": [],
      "source": [
        "%%time\n",
        "from sumy.summarizers.lex_rank import LexRankSummarizer\n",
        "summarizer = LexRankSummarizer()\n",
        "summary = summarizer(parser.document, 5)\n",
        "#for sentence in summary:\n",
        "#    print(sentence, '\\n')\n",
        "summary"
      ],
      "id": "a5eXdIWWKoMk"
    },
    {
      "cell_type": "markdown",
      "metadata": {
        "id": "LkB67DdhLRiV"
      },
      "source": [
        "# ChatGPT"
      ],
      "id": "LkB67DdhLRiV"
    },
    {
      "cell_type": "markdown",
      "metadata": {
        "id": "rtogCZD-Rr3Q"
      },
      "source": [
        "### [PROMPT] **I am going to paste in one of the risk factors sections from an SEC 10-K filing. I'm looking for a quick rundown of the major risk factors from this SEC filing. Can you help with that?**"
      ],
      "id": "rtogCZD-Rr3Q"
    },
    {
      "cell_type": "markdown",
      "metadata": {
        "id": "_Z7NQ4MgRr7o"
      },
      "source": [
        "Certainly! Here's a quick rundown of the major risk factors from the SEC filing:\n",
        "\n",
        "1. COVID-19 Pandemic Impact: The pandemic has significantly disrupted global supply chains, causing labor shortages, increased operational costs, and supplier delays. This includes challenges like port congestion and a semiconductor shortage, affecting production and supply chain efficiency.\n",
        "\n",
        "2. Operational Challenges in New Factories: Scaling and managing new production facilities, such as Gigafactory Berlin-Brandenburg and Gigafactory Texas, pose risks due to regulatory, compliance, and production uncertainties.\n",
        "\n",
        "3. Dependency on Lithium-Ion Battery Cells: The company relies heavily on lithium-ion battery cells for its products, with fluctuating costs and availability of raw materials like lithium and cobalt being a major concern.\n",
        "\n",
        "4. Competitive Automotive Market: The company operates in a highly competitive electric vehicle market, where consumer demand and the pace of market adoption are critical to success.\n",
        "\n",
        "5. Operational Risks: The company faces risks from potential union activities, product recalls, intellectual property disputes, and cybersecurity threats, which could impact business operations and financial stability.\n",
        "\n",
        "These summarized points highlight the critical risks and challenges that could affect the company's business and financial outcomes as reported in the SEC filing."
      ],
      "id": "_Z7NQ4MgRr7o"
    },
    {
      "cell_type": "markdown",
      "metadata": {
        "id": "qpRm7IptSJ3k"
      },
      "source": [
        "### [PROMPT] ****If I paste in a second filing from a year earlier (2021), can you tell me what was added to the 2022 filing/dropped from the 2021 filing? Also, can you please produce that answer in a format that I can copy and paste into a Jupyter notebook cell and keep the formatting?**"
      ],
      "id": "qpRm7IptSJ3k"
    },
    {
      "cell_type": "markdown",
      "metadata": {
        "id": "xnDW-JIfSJ9j"
      },
      "source": [
        "1. **Less Emphasis on COVID-19 Operational Disruptions**: The 2021 filing had detailed descriptions of operational disruptions due to COVID-19, such as temporary suspensions and furloughs, which are less emphasized or omitted in the 2022 filing, indicating a possible stabilization post the initial pandemic shock.\n",
        "\n",
        "2. **Specific References to Geographic COVID-19 Impact**: The 2021 filing contained more specific references to the impact of COVID-19 in certain regions, like the lockdowns in Shanghai and their direct impact on operations. This seems to be less emphasized or absent in the 2022 filing.\n",
        "\n",
        "3. **Details on Temporary Measures During Pandemic**: The 2021 filing discussed specific temporary measures like employee furloughs and salary reductions due to pandemic-related shutdowns, which are not mentioned in the 2022 filing, possibly indicating a return to more normal operations.\n",
        "\n",
        "4. **Certain Product-specific Challenges**: The 2021 filing had more detailed mentions of challenges faced with specific products, like Model X and Model 3, and their production ramp difficulties, which are less detailed in the 2022 filing.\n",
        "\n",
        "5. **In-depth Discussion on Vehicle Safety and Recalls**: The 2021 filing had a more detailed discussion on vehicle safety, recalls, and related liabilities, which seems to have been condensed or reduced in detail in the 2022 filing.\n",
        "\n",
        "6. **Less Emphasis on Specific Challenges in International Expansion**: While the 2022 filing continues to mention international expansion, there's less emphasis on specific challenges faced in different international jurisdictions compared to the 2021 filing.\n",
        "\n",
        "7. **Certain Legal and Regulatory Risks**: Some specific legal and regulatory challenges or cases that were ongoing and mentioned in the 2021 filing might have been resolved or no longer deemed significant enough to include in the 2022 filing.\n",
        "\n",
        "8. **Detailed Discussion on Certain Financial Risks**: The 2021 filing might have contained more detailed discussions on specific financial risks, such as lease management and vehicle financing programs, which are less prominent in the 2022 filing.\n",
        "\n",
        "9. **Specific Manufacturing Challenges and Bottlenecks**: Detailed discussions on past manufacturing bottlenecks and challenges, particularly with older models, might have been omitted in the 2022 filing, possibly due to their resolution or reduced relevance.\n",
        "\n",
        "10. **Detailed References to Past Product Adjustments and Pricing**: The 2021 filing included specific references to adjustments in vehicle pricing and product updates, which might be less detailed or omitted in the 2022 filing, perhaps due to a shift in focus or strategy.\n"
      ],
      "id": "xnDW-JIfSJ9j"
    },
    {
      "cell_type": "markdown",
      "metadata": {
        "id": "f8gWPSA9KndJ"
      },
      "source": [
        "# **<font color='blue'>If You're Interested in Learning More about How to Use ChatGPT to Analyze Financial Information, Join Us for this Webinar on March 15th!</font>** https://centre-in-digital-financial-information.webinargeek.com/chatgpt-python-api-a-deep-dive-into-large-language-model\n",
        "\n",
        "And for a list of all our upcoming webinars, please visit https://schulich.yorku.ca/faculty-research/cpa-ontario-centre/industry-outreach/\n",
        "\n",
        "- February 23: Hiring Trends and Technology https://centre-in-digital-financial-information.webinargeek.com/hiring-trends-and-technology\n",
        "- March 1 [RESEARCH PRESENTATION]: Cross-National Comparison of Cryptoasset Income Taxation Regimes https://centre-in-digital-financial-information.webinargeek.com/cross-national-comparison-of-cryptoasset-income-taxation-regimes\n",
        "- March 15: ChatGPT Python API: A Deep Dive into Large Language Model https://centre-in-digital-financial-information.webinargeek.com/chatgpt-python-api-a-deep-dive-into-large-language-model\n",
        "- March 29 [RESEARCH PRESENTATION]: From Numbers to Stories: Accounting Numbers and Executive Compensation Narratives https://centre-in-digital-financial-information.webinargeek.com/from-numbers-to-stories-accounting-numbers-and-executive-compensation-narratives\n",
        "- April 19: Innovations in Fraud Detection https://centre-in-digital-financial-information.webinargeek.com/accounting-analytics\n",
        "- May 17: Introduction to Social Network Analysis https://centre-in-digital-financial-information.webinargeek.com/intro-to-social-network-analysis\n",
        "- May 31 [RESEARCH PRESENTATION]: The Effects of Ego Network Structure on Market Reactions: A Social Network Analysis Perspective of Twitter Cashtag Networks https://centre-in-digital-financial-information.webinargeek.com/the-effects-of-ego-network-structure-on-market-reactions-a-social-network-analysis-perspective\n",
        "\n",
        "All webinars are Fridays at noon Toronto time."
      ],
      "id": "f8gWPSA9KndJ"
    },
    {
      "cell_type": "markdown",
      "metadata": {
        "id": "v83RHjYRIXSC"
      },
      "source": [
        "# Some Additional Readings and Coding Resources\n"
      ],
      "id": "v83RHjYRIXSC"
    },
    {
      "cell_type": "markdown",
      "metadata": {
        "id": "ZqS4tL2tt-4N"
      },
      "source": [
        "https://www.sfmagazine.com/articles/2021/june/textual-analysis-for-accountants/\n",
        "\n",
        "https://www.vscpa.com/article/text-analytics-and-accounting-profession\n",
        "\n",
        "https://papers.ssrn.com/sol3/papers.cfm?abstract_id=4029950\n",
        "\n",
        "https://www.cpajournal.com/2020/07/15/textual-analysis-for-risk-profiles-from-10-k-filings/\n",
        "\n",
        "https://publications.aaahq.org/iae/article/37/1/141/8264/Put-Your-Best-Text-Forward-Introducing-Textual\n",
        "\n",
        "https://github.com/jtkiley/2020_carma_python\n"
      ],
      "id": "ZqS4tL2tt-4N"
    },
    {
      "cell_type": "markdown",
      "metadata": {
        "id": "5c95fbb9"
      },
      "source": [
        "<br>\n",
        "\n",
        "For more Notebooks as well as additional Python and Big Data tutorials, please visit http://social-metrics.org or follow me on Twitter <a href='https://twitter.com/gregorysaxton'>@gregorysaxton</a>"
      ],
      "id": "5c95fbb9"
    }
  ],
  "metadata": {
    "colab": {
      "collapsed_sections": [
        "WXvecRhalyyS",
        "Z0QTwM3wrAU0",
        "DmIo3ssK20s8",
        "f-m2Th9GJQ6u",
        "tNou6plz23Q5",
        "qh3NScH926xQ",
        "3luraKLiPBHW",
        "VeNtB76skBIw",
        "g9YScS5xvybb",
        "X6OM7kLG2OV8",
        "HhfiulkqDdt3",
        "X_lmiI9wKyip",
        "2iLhuusSLRRH",
        "HX3c2A33KcBs",
        "LkB67DdhLRiV",
        "v83RHjYRIXSC"
      ],
      "provenance": [],
      "toc_visible": true
    },
    "extensions": {
      "jupyter_dashboards": {
        "activeView": "grid_default",
        "version": 1,
        "views": {
          "grid_default": {
            "cellMargin": 10,
            "defaultCellHeight": 20,
            "maxColumns": 12,
            "name": "grid",
            "type": "grid"
          },
          "report_default": {
            "name": "report",
            "type": "report"
          }
        }
      }
    },
    "kernelspec": {
      "display_name": "Python 3 (ipykernel)",
      "language": "python",
      "name": "python3"
    },
    "language_info": {
      "codemirror_mode": {
        "name": "ipython",
        "version": 3
      },
      "file_extension": ".py",
      "mimetype": "text/x-python",
      "name": "python",
      "nbconvert_exporter": "python",
      "pygments_lexer": "ipython3",
      "version": "3.9.7"
    }
  },
  "nbformat": 4,
  "nbformat_minor": 5
}